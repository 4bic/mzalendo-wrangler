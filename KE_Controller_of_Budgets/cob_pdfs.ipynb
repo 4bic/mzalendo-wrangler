{
  "nbformat": 4,
  "nbformat_minor": 0,
  "metadata": {
    "colab": {
      "name": "cob_pdf's.ipynb",
      "provenance": [],
      "collapsed_sections": []
    },
    "kernelspec": {
      "name": "python3",
      "display_name": "Python 3"
    }
  },
  "cells": [
    {
      "cell_type": "markdown",
      "metadata": {
        "id": "xQ48oM6ua7O5",
        "colab_type": "text"
      },
      "source": [
        "## Set up essentials\n",
        "\n",
        "- gDrive \n",
        "- requests\n",
        "- BeautifulSoup"
      ]
    },
    {
      "cell_type": "code",
      "metadata": {
        "id": "sKi5aqLJqsTx",
        "colab_type": "code",
        "colab": {}
      },
      "source": [
        "from google.colab import drive , files\n",
        "import os\n",
        "import requests\n",
        "from urllib.parse import urljoin\n",
        "from bs4 import BeautifulSoup\n",
        "\n",
        "base_url = \"https://cob.go.ke/publications/?cp_consolidated-county-review=\"\n",
        "\n",
        "headers = {\n",
        "    'Content-Type': 'application/pdf',\n",
        "}\n"
      ],
      "execution_count": 0,
      "outputs": []
    },
    {
      "cell_type": "markdown",
      "metadata": {
        "id": "5efJQO7Db6tP",
        "colab_type": "text"
      },
      "source": [
        "## Mount Drive and run from select folder"
      ]
    },
    {
      "cell_type": "code",
      "metadata": {
        "id": "e9xlm4ynb3Zu",
        "colab_type": "code",
        "colab": {}
      },
      "source": [
        "from google.colab import drive\n",
        "drive.mount('/content/drive')"
      ],
      "execution_count": 0,
      "outputs": []
    },
    {
      "cell_type": "code",
      "metadata": {
        "id": "AqImXaFyrLdd",
        "colab_type": "code",
        "colab": {}
      },
      "source": [
        "%cd /content/drive/'My Drive'/Colab_Notebooks/COB "
      ],
      "execution_count": 0,
      "outputs": []
    },
    {
      "cell_type": "markdown",
      "metadata": {
        "id": "IkcqsTIdbeW6",
        "colab_type": "text"
      },
      "source": [
        "## Crawl and Collect pdf's \n",
        "- create storage folder\n",
        "- restrict pages to 3 \n",
        "- name files as per unique value"
      ]
    },
    {
      "cell_type": "code",
      "metadata": {
        "id": "NaAHJx71ro3e",
        "colab_type": "code",
        "colab": {}
      },
      "source": [
        "#If there is no such folder,create one automatically\n",
        "folder_location = \"./cob_pdf\"\n",
        "\n",
        "if not os.path.exists(folder_location):os.mkdir(folder_location)\n",
        "\n",
        "for page in range(1,3,1)\n",
        "  url = base_url + str(page)\n",
        "  response = requests.get(url)\n",
        "  soup= BeautifulSoup(response.text, \"html.parser\")  \n",
        "  all = soup.find_all(\"a\",{\"class\" :\"wpdm-download-link [btnclass]\"})\n",
        "\n",
        "  for link in all:\n",
        "      #Name the pdf files using the last portion of each link which are unique in this case\n",
        "      filename = os.path.join(folder_location,link['onclick'].split(\"/\")[4]+\".pdf\")\n",
        "      with open(filename, 'wb') as f:\n",
        "          doc_file = requests.get(urljoin(url,link['onclick'])).content\n",
        "          f.write(doc_file)"
      ],
      "execution_count": 0,
      "outputs": []
    },
    {
      "cell_type": "code",
      "metadata": {
        "id": "Vmp0PuW0r68S",
        "colab_type": "code",
        "colab": {}
      },
      "source": [
        ""
      ],
      "execution_count": 0,
      "outputs": []
    }
  ]
}