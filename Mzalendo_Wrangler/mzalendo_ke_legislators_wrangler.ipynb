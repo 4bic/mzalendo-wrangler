{
  "nbformat": 4,
  "nbformat_minor": 0,
  "metadata": {
    "colab": {
      "name": "mzalendo_ke_legislators_wrangler.ipynb",
      "provenance": [],
      "collapsed_sections": [],
      "toc_visible": true
    },
    "kernelspec": {
      "name": "python3",
      "display_name": "Python 3"
    },
    "accelerator": "GPU"
  },
  "cells": [
    {
      "cell_type": "markdown",
      "metadata": {
        "id": "NmDzqRecunMQ",
        "colab_type": "text"
      },
      "source": [
        "# Set up Essentials"
      ]
    },
    {
      "cell_type": "code",
      "metadata": {
        "id": "MX6bRjOdu35E",
        "colab_type": "code",
        "colab": {}
      },
      "source": [
        "from google.colab import drive , files\n",
        "import os, os.path\n",
        "import pandas as pd\n",
        "from pandas.io.json import json_normalize \n",
        "import json\n",
        "import requests\n",
        "import numpy as np"
      ],
      "execution_count": 0,
      "outputs": []
    },
    {
      "cell_type": "markdown",
      "metadata": {
        "id": "8CP1uNiiu7uq",
        "colab_type": "text"
      },
      "source": [
        "## **Mount Drive and Operate from within said folder**"
      ]
    },
    {
      "cell_type": "code",
      "metadata": {
        "id": "BF3sZ1xlvJL4",
        "colab_type": "code",
        "colab": {}
      },
      "source": [
        "from google.colab import drive\n",
        "drive.mount('/content/drive')"
      ],
      "execution_count": 0,
      "outputs": []
    },
    {
      "cell_type": "code",
      "metadata": {
        "id": "cl6MU0c6vMJ_",
        "colab_type": "code",
        "outputId": "23c558a4-a12a-4e40-fc2f-67a0bea5d070",
        "colab": {
          "base_uri": "https://localhost:8080/",
          "height": 34
        }
      },
      "source": [
        "%cd /content/drive/'My Drive'/Colab_Notebooks/mzalendo"
      ],
      "execution_count": 6,
      "outputs": [
        {
          "output_type": "stream",
          "text": [
            "/content/drive/My Drive/Colab_Notebooks/mzalendo\n"
          ],
          "name": "stdout"
        }
      ]
    },
    {
      "cell_type": "code",
      "metadata": {
        "id": "HfKm9sw9qSgk",
        "colab_type": "code",
        "colab": {}
      },
      "source": [
        "persons = \"http://info.mzalendo.com/media_root/popolo_json/persons.json\"\n",
        "organization = \"http://info.mzalendo.com/media_root/popolo_json/organizations.json\"\n",
        "memberships = \"http://info.mzalendo.com/media_root/popolo_json/memberships.json\"\n",
        "pombola = \"http://info.mzalendo.com/media_root/popolo_json/memberships.json\"\n",
        "candidates = \"https://docs.google.com/spreadsheets/d/e/2PACX-1vTR3hgRnOrPi6Opkr3Z622_onNYEtzds51TxqS1-VBEcDqP8O0nLjr1XwRkQYCGLrusNL6nJLyxtQbe/pub?gid=671749755&single=true&output=csv\"\n",
        "elected = \"https://docs.google.com/spreadsheets/d/e/2PACX-1vTR3hgRnOrPi6Opkr3Z622_onNYEtzds51TxqS1-VBEcDqP8O0nLjr1XwRkQYCGLrusNL6nJLyxtQbe/pub?gid=655626479&single=true&output=csv\"\n"
      ],
      "execution_count": 0,
      "outputs": []
    },
    {
      "cell_type": "markdown",
      "metadata": {
        "id": "eDO7_aFQNoj6",
        "colab_type": "text"
      },
      "source": [
        "## Work from file with nested jsons'"
      ]
    },
    {
      "cell_type": "code",
      "metadata": {
        "id": "Y3yJ1MnKmQPY",
        "colab_type": "code",
        "colab": {}
      },
      "source": [
        "with open(pombola) as data_file:    \n",
        "    data = json.load(data_file) \n",
        "\n",
        "# data = json_normalize(\"pombola.json\")"
      ],
      "execution_count": 0,
      "outputs": []
    },
    {
      "cell_type": "code",
      "metadata": {
        "id": "IDarGGo-mQTL",
        "colab_type": "code",
        "colab": {}
      },
      "source": [
        "df = json_normalize(data)"
      ],
      "execution_count": 0,
      "outputs": []
    },
    {
      "cell_type": "code",
      "metadata": {
        "id": "XW40Vl7ZmS6d",
        "colab_type": "code",
        "outputId": "187b53ee-0147-4d97-87e3-2516e727f482",
        "colab": {
          "base_uri": "https://localhost:8080/",
          "height": 80
        }
      },
      "source": [
        "df.head()"
      ],
      "execution_count": 0,
      "outputs": [
        {
          "output_type": "execute_result",
          "data": {
            "text/html": [
              "<div>\n",
              "<style scoped>\n",
              "    .dataframe tbody tr th:only-of-type {\n",
              "        vertical-align: middle;\n",
              "    }\n",
              "\n",
              "    .dataframe tbody tr th {\n",
              "        vertical-align: top;\n",
              "    }\n",
              "\n",
              "    .dataframe thead th {\n",
              "        text-align: right;\n",
              "    }\n",
              "</style>\n",
              "<table border=\"1\" class=\"dataframe\">\n",
              "  <thead>\n",
              "    <tr style=\"text-align: right;\">\n",
              "      <th></th>\n",
              "      <th>areas</th>\n",
              "      <th>events</th>\n",
              "      <th>organizations</th>\n",
              "      <th>persons</th>\n",
              "      <th>posts</th>\n",
              "    </tr>\n",
              "  </thead>\n",
              "  <tbody>\n",
              "    <tr>\n",
              "      <th>0</th>\n",
              "      <td>[{'area_type': 'CON', 'id': 'mapit:4812', 'ide...</td>\n",
              "      <td>[{'classification': 'legislative period', 'end...</td>\n",
              "      <td>[{'category': 'other', 'classification': 'Unkn...</td>\n",
              "      <td>[{'contact_details': [], 'id': 'core_person:78...</td>\n",
              "      <td>[]</td>\n",
              "    </tr>\n",
              "  </tbody>\n",
              "</table>\n",
              "</div>"
            ],
            "text/plain": [
              "                                               areas  ... posts\n",
              "0  [{'area_type': 'CON', 'id': 'mapit:4812', 'ide...  ...    []\n",
              "\n",
              "[1 rows x 5 columns]"
            ]
          },
          "metadata": {
            "tags": []
          },
          "execution_count": 18
        }
      ]
    },
    {
      "cell_type": "code",
      "metadata": {
        "id": "td2Uw3hvrzRg",
        "colab_type": "code",
        "outputId": "9d16a2a8-8dd5-4028-f0cc-358026508212",
        "colab": {
          "base_uri": "https://localhost:8080/",
          "height": 34
        }
      },
      "source": [
        "df.columns"
      ],
      "execution_count": 0,
      "outputs": [
        {
          "output_type": "execute_result",
          "data": {
            "text/plain": [
              "Index(['areas', 'events', 'organizations', 'persons', 'posts'], dtype='object')"
            ]
          },
          "metadata": {
            "tags": []
          },
          "execution_count": 27
        }
      ]
    },
    {
      "cell_type": "code",
      "metadata": {
        "id": "MeNUicCCqw7y",
        "colab_type": "code",
        "outputId": "9d64e695-bec5-4206-dc08-9d87220fea95",
        "colab": {
          "base_uri": "https://localhost:8080/",
          "height": 34
        }
      },
      "source": [
        "len(df['persons'][0])"
      ],
      "execution_count": 0,
      "outputs": [
        {
          "output_type": "execute_result",
          "data": {
            "text/plain": [
              "13267"
            ]
          },
          "metadata": {
            "tags": []
          },
          "execution_count": 31
        }
      ]
    },
    {
      "cell_type": "code",
      "metadata": {
        "id": "c7fauqj-q-u0",
        "colab_type": "code",
        "colab": {}
      },
      "source": [
        "df_P = pd.DataFrame(df['persons'][0])"
      ],
      "execution_count": 0,
      "outputs": []
    },
    {
      "cell_type": "code",
      "metadata": {
        "id": "9-OkMiSPslea",
        "colab_type": "code",
        "outputId": "d3763233-cfeb-44da-b79b-fa64da01552c",
        "colab": {
          "base_uri": "https://localhost:8080/",
          "height": 298
        }
      },
      "source": [
        "df_P.head(3)"
      ],
      "execution_count": 0,
      "outputs": [
        {
          "output_type": "execute_result",
          "data": {
            "text/html": [
              "<div>\n",
              "<style scoped>\n",
              "    .dataframe tbody tr th:only-of-type {\n",
              "        vertical-align: middle;\n",
              "    }\n",
              "\n",
              "    .dataframe tbody tr th {\n",
              "        vertical-align: top;\n",
              "    }\n",
              "\n",
              "    .dataframe thead th {\n",
              "        text-align: right;\n",
              "    }\n",
              "</style>\n",
              "<table border=\"1\" class=\"dataframe\">\n",
              "  <thead>\n",
              "    <tr style=\"text-align: right;\">\n",
              "      <th></th>\n",
              "      <th>contact_details</th>\n",
              "      <th>id</th>\n",
              "      <th>identifiers</th>\n",
              "      <th>images</th>\n",
              "      <th>memberships</th>\n",
              "      <th>name</th>\n",
              "      <th>other_names</th>\n",
              "      <th>sort_name</th>\n",
              "      <th>birth_date</th>\n",
              "      <th>gender</th>\n",
              "      <th>death_date</th>\n",
              "      <th>summary</th>\n",
              "      <th>email</th>\n",
              "      <th>biography</th>\n",
              "      <th>national_identity</th>\n",
              "      <th>family_name</th>\n",
              "      <th>given_name</th>\n",
              "      <th>honorific_suffix</th>\n",
              "      <th>honorific_prefix</th>\n",
              "    </tr>\n",
              "  </thead>\n",
              "  <tbody>\n",
              "    <tr>\n",
              "      <th>0</th>\n",
              "      <td>[]</td>\n",
              "      <td>core_person:7848</td>\n",
              "      <td>[{'identifier': 'abbey-gedow-abdikadir', 'sche...</td>\n",
              "      <td>[{'url': 'http://info.mzalendo.com/media_root/...</td>\n",
              "      <td>[{'area': None, 'end_date': '2013-03-04', 'id'...</td>\n",
              "      <td>Abbey Gedow Abdikadir</td>\n",
              "      <td>[]</td>\n",
              "      <td>Abdikadir</td>\n",
              "      <td>NaN</td>\n",
              "      <td>NaN</td>\n",
              "      <td>NaN</td>\n",
              "      <td>NaN</td>\n",
              "      <td>NaN</td>\n",
              "      <td>NaN</td>\n",
              "      <td>NaN</td>\n",
              "      <td>NaN</td>\n",
              "      <td>NaN</td>\n",
              "      <td>NaN</td>\n",
              "      <td>NaN</td>\n",
              "    </tr>\n",
              "    <tr>\n",
              "      <th>1</th>\n",
              "      <td>[]</td>\n",
              "      <td>core_person:8251</td>\n",
              "      <td>[{'identifier': 'al-amin-ahmed', 'scheme': 'po...</td>\n",
              "      <td>[{'url': 'http://info.mzalendo.com/media_root/...</td>\n",
              "      <td>[{'id': 'core_position:21297', 'identifiers': ...</td>\n",
              "      <td>Al Amin Ahmed</td>\n",
              "      <td>[]</td>\n",
              "      <td>Ahmed</td>\n",
              "      <td>NaN</td>\n",
              "      <td>NaN</td>\n",
              "      <td>NaN</td>\n",
              "      <td>NaN</td>\n",
              "      <td>NaN</td>\n",
              "      <td>NaN</td>\n",
              "      <td>NaN</td>\n",
              "      <td>NaN</td>\n",
              "      <td>NaN</td>\n",
              "      <td>NaN</td>\n",
              "      <td>NaN</td>\n",
              "    </tr>\n",
              "    <tr>\n",
              "      <th>2</th>\n",
              "      <td>[]</td>\n",
              "      <td>core_person:4435</td>\n",
              "      <td>[{'identifier': 'abdi-ahmed-ali', 'scheme': 'p...</td>\n",
              "      <td>[{'url': 'http://info.mzalendo.com/media_root/...</td>\n",
              "      <td>[{'id': 'core_position:13754', 'identifiers': ...</td>\n",
              "      <td>Abdi Ahmed Ali</td>\n",
              "      <td>[]</td>\n",
              "      <td>Ali</td>\n",
              "      <td>NaN</td>\n",
              "      <td>NaN</td>\n",
              "      <td>NaN</td>\n",
              "      <td>NaN</td>\n",
              "      <td>NaN</td>\n",
              "      <td>NaN</td>\n",
              "      <td>NaN</td>\n",
              "      <td>NaN</td>\n",
              "      <td>NaN</td>\n",
              "      <td>NaN</td>\n",
              "      <td>NaN</td>\n",
              "    </tr>\n",
              "  </tbody>\n",
              "</table>\n",
              "</div>"
            ],
            "text/plain": [
              "  contact_details                id  ... honorific_suffix honorific_prefix\n",
              "0              []  core_person:7848  ...              NaN              NaN\n",
              "1              []  core_person:8251  ...              NaN              NaN\n",
              "2              []  core_person:4435  ...              NaN              NaN\n",
              "\n",
              "[3 rows x 19 columns]"
            ]
          },
          "metadata": {
            "tags": []
          },
          "execution_count": 34
        }
      ]
    },
    {
      "cell_type": "code",
      "metadata": {
        "id": "QhZw5uwRtWoX",
        "colab_type": "code",
        "colab": {}
      },
      "source": [
        ""
      ],
      "execution_count": 0,
      "outputs": []
    },
    {
      "cell_type": "markdown",
      "metadata": {
        "id": "Qg7BATQXN3nI",
        "colab_type": "text"
      },
      "source": [
        "## Collect All Candidates data"
      ]
    },
    {
      "cell_type": "code",
      "metadata": {
        "id": "5q-Ese_kN_tU",
        "colab_type": "code",
        "colab": {}
      },
      "source": [
        "all = pd.read_csv(candidates)\n",
        "elected = pd.read_csv(elected)"
      ],
      "execution_count": 0,
      "outputs": []
    },
    {
      "cell_type": "code",
      "metadata": {
        "id": "h7BHC_PaOh1B",
        "colab_type": "code",
        "outputId": "34e744be-a33a-4208-9087-e0cf5648b32e",
        "colab": {
          "base_uri": "https://localhost:8080/",
          "height": 142
        }
      },
      "source": [
        "all.head(3)"
      ],
      "execution_count": 0,
      "outputs": [
        {
          "output_type": "execute_result",
          "data": {
            "text/html": [
              "<div>\n",
              "<style scoped>\n",
              "    .dataframe tbody tr th:only-of-type {\n",
              "        vertical-align: middle;\n",
              "    }\n",
              "\n",
              "    .dataframe tbody tr th {\n",
              "        vertical-align: top;\n",
              "    }\n",
              "\n",
              "    .dataframe thead th {\n",
              "        text-align: right;\n",
              "    }\n",
              "</style>\n",
              "<table border=\"1\" class=\"dataframe\">\n",
              "  <thead>\n",
              "    <tr style=\"text-align: right;\">\n",
              "      <th></th>\n",
              "      <th>name</th>\n",
              "      <th>party</th>\n",
              "      <th>party-id</th>\n",
              "      <th>p-abbrv</th>\n",
              "      <th>gender</th>\n",
              "      <th>position</th>\n",
              "      <th>county</th>\n",
              "      <th>county-id</th>\n",
              "      <th>constituency</th>\n",
              "      <th>constituency-id</th>\n",
              "      <th>ward</th>\n",
              "      <th>ward-id</th>\n",
              "    </tr>\n",
              "  </thead>\n",
              "  <tbody>\n",
              "    <tr>\n",
              "      <th>0</th>\n",
              "      <td>JOHN EKURU LONGOGGY AUKOT</td>\n",
              "      <td>THIRDWAY ALLIANCE KENYA</td>\n",
              "      <td>76</td>\n",
              "      <td>TAK</td>\n",
              "      <td>Male</td>\n",
              "      <td>president</td>\n",
              "      <td>NaN</td>\n",
              "      <td>NaN</td>\n",
              "      <td>NaN</td>\n",
              "      <td>NaN</td>\n",
              "      <td>NaN</td>\n",
              "      <td>NaN</td>\n",
              "    </tr>\n",
              "    <tr>\n",
              "      <th>1</th>\n",
              "      <td>MOHAMED ABDUBA DIDA</td>\n",
              "      <td>ALLIANCE FOR REALCHANGE</td>\n",
              "      <td>55</td>\n",
              "      <td>ARK</td>\n",
              "      <td>Male</td>\n",
              "      <td>president</td>\n",
              "      <td>NaN</td>\n",
              "      <td>NaN</td>\n",
              "      <td>NaN</td>\n",
              "      <td>NaN</td>\n",
              "      <td>NaN</td>\n",
              "      <td>NaN</td>\n",
              "    </tr>\n",
              "    <tr>\n",
              "      <th>2</th>\n",
              "      <td>SHAKHALAGA KHWA JIRONGO</td>\n",
              "      <td>UNITED DEMOCRATIC PARTY</td>\n",
              "      <td>64</td>\n",
              "      <td>UDP</td>\n",
              "      <td>Male</td>\n",
              "      <td>president</td>\n",
              "      <td>NaN</td>\n",
              "      <td>NaN</td>\n",
              "      <td>NaN</td>\n",
              "      <td>NaN</td>\n",
              "      <td>NaN</td>\n",
              "      <td>NaN</td>\n",
              "    </tr>\n",
              "  </tbody>\n",
              "</table>\n",
              "</div>"
            ],
            "text/plain": [
              "                        name                    party  ... ward ward-id\n",
              "0  JOHN EKURU LONGOGGY AUKOT  THIRDWAY ALLIANCE KENYA  ...  NaN     NaN\n",
              "1        MOHAMED ABDUBA DIDA  ALLIANCE FOR REALCHANGE  ...  NaN     NaN\n",
              "2    SHAKHALAGA KHWA JIRONGO  UNITED DEMOCRATIC PARTY  ...  NaN     NaN\n",
              "\n",
              "[3 rows x 12 columns]"
            ]
          },
          "metadata": {
            "tags": []
          },
          "execution_count": 25
        }
      ]
    },
    {
      "cell_type": "code",
      "metadata": {
        "id": "JcnI9r3CO2AW",
        "colab_type": "code",
        "outputId": "05226e81-4ae7-43c9-c484-53fb6f61fbd6",
        "colab": {
          "base_uri": "https://localhost:8080/",
          "height": 34
        }
      },
      "source": [
        "all.shape"
      ],
      "execution_count": 0,
      "outputs": [
        {
          "output_type": "execute_result",
          "data": {
            "text/plain": [
              "(14758, 12)"
            ]
          },
          "metadata": {
            "tags": []
          },
          "execution_count": 26
        }
      ]
    },
    {
      "cell_type": "markdown",
      "metadata": {
        "id": "Ew7AEY9kiVZB",
        "colab_type": "text"
      },
      "source": [
        "## Isolate Elected legislators"
      ]
    },
    {
      "cell_type": "code",
      "metadata": {
        "id": "xIxk0yE1O4dV",
        "colab_type": "code",
        "colab": {}
      },
      "source": [
        "all['elected'] = np.where(all['name'].isin(elected['name'].str.upper()),\"elected-2017\", \"not-elected\")\n"
      ],
      "execution_count": 0,
      "outputs": []
    },
    {
      "cell_type": "code",
      "metadata": {
        "id": "GEWLC3Z0ilk1",
        "colab_type": "code",
        "outputId": "f9aab78f-da96-487c-b9b3-8862bc1d2a02",
        "colab": {
          "base_uri": "https://localhost:8080/",
          "height": 142
        }
      },
      "source": [
        "all.head(3)"
      ],
      "execution_count": 0,
      "outputs": [
        {
          "output_type": "execute_result",
          "data": {
            "text/html": [
              "<div>\n",
              "<style scoped>\n",
              "    .dataframe tbody tr th:only-of-type {\n",
              "        vertical-align: middle;\n",
              "    }\n",
              "\n",
              "    .dataframe tbody tr th {\n",
              "        vertical-align: top;\n",
              "    }\n",
              "\n",
              "    .dataframe thead th {\n",
              "        text-align: right;\n",
              "    }\n",
              "</style>\n",
              "<table border=\"1\" class=\"dataframe\">\n",
              "  <thead>\n",
              "    <tr style=\"text-align: right;\">\n",
              "      <th></th>\n",
              "      <th>name</th>\n",
              "      <th>party</th>\n",
              "      <th>party-id</th>\n",
              "      <th>p-abbrv</th>\n",
              "      <th>gender</th>\n",
              "      <th>position</th>\n",
              "      <th>county</th>\n",
              "      <th>county-id</th>\n",
              "      <th>constituency</th>\n",
              "      <th>constituency-id</th>\n",
              "      <th>ward</th>\n",
              "      <th>ward-id</th>\n",
              "      <th>elected</th>\n",
              "    </tr>\n",
              "  </thead>\n",
              "  <tbody>\n",
              "    <tr>\n",
              "      <th>0</th>\n",
              "      <td>JOHN EKURU LONGOGGY AUKOT</td>\n",
              "      <td>THIRDWAY ALLIANCE KENYA</td>\n",
              "      <td>76</td>\n",
              "      <td>TAK</td>\n",
              "      <td>Male</td>\n",
              "      <td>president</td>\n",
              "      <td>NaN</td>\n",
              "      <td>NaN</td>\n",
              "      <td>NaN</td>\n",
              "      <td>NaN</td>\n",
              "      <td>NaN</td>\n",
              "      <td>NaN</td>\n",
              "      <td>not-elected</td>\n",
              "    </tr>\n",
              "    <tr>\n",
              "      <th>1</th>\n",
              "      <td>MOHAMED ABDUBA DIDA</td>\n",
              "      <td>ALLIANCE FOR REALCHANGE</td>\n",
              "      <td>55</td>\n",
              "      <td>ARK</td>\n",
              "      <td>Male</td>\n",
              "      <td>president</td>\n",
              "      <td>NaN</td>\n",
              "      <td>NaN</td>\n",
              "      <td>NaN</td>\n",
              "      <td>NaN</td>\n",
              "      <td>NaN</td>\n",
              "      <td>NaN</td>\n",
              "      <td>not-elected</td>\n",
              "    </tr>\n",
              "    <tr>\n",
              "      <th>2</th>\n",
              "      <td>SHAKHALAGA KHWA JIRONGO</td>\n",
              "      <td>UNITED DEMOCRATIC PARTY</td>\n",
              "      <td>64</td>\n",
              "      <td>UDP</td>\n",
              "      <td>Male</td>\n",
              "      <td>president</td>\n",
              "      <td>NaN</td>\n",
              "      <td>NaN</td>\n",
              "      <td>NaN</td>\n",
              "      <td>NaN</td>\n",
              "      <td>NaN</td>\n",
              "      <td>NaN</td>\n",
              "      <td>not-elected</td>\n",
              "    </tr>\n",
              "  </tbody>\n",
              "</table>\n",
              "</div>"
            ],
            "text/plain": [
              "                        name                    party  ... ward-id      elected\n",
              "0  JOHN EKURU LONGOGGY AUKOT  THIRDWAY ALLIANCE KENYA  ...     NaN  not-elected\n",
              "1        MOHAMED ABDUBA DIDA  ALLIANCE FOR REALCHANGE  ...     NaN  not-elected\n",
              "2    SHAKHALAGA KHWA JIRONGO  UNITED DEMOCRATIC PARTY  ...     NaN  not-elected\n",
              "\n",
              "[3 rows x 13 columns]"
            ]
          },
          "metadata": {
            "tags": []
          },
          "execution_count": 28
        }
      ]
    },
    {
      "cell_type": "code",
      "metadata": {
        "id": "mFVJBgq0in4d",
        "colab_type": "code",
        "colab": {}
      },
      "source": [
        "# all.to_csv(\"./ke_legislators.csv\")"
      ],
      "execution_count": 0,
      "outputs": []
    },
    {
      "cell_type": "code",
      "metadata": {
        "id": "jo8dHxD1kIcO",
        "colab_type": "code",
        "colab": {}
      },
      "source": [
        ""
      ],
      "execution_count": 0,
      "outputs": []
    },
    {
      "cell_type": "markdown",
      "metadata": {
        "id": "BAbS8yaBwXWu",
        "colab_type": "text"
      },
      "source": [
        "# Persons Section"
      ]
    },
    {
      "cell_type": "markdown",
      "metadata": {
        "id": "WJWYcWhJvoxd",
        "colab_type": "text"
      },
      "source": [
        "Access the json file"
      ]
    },
    {
      "cell_type": "code",
      "metadata": {
        "id": "6jBAjGy2vqWM",
        "colab_type": "code",
        "colab": {}
      },
      "source": [
        "data_p = pd.read_json(persons)"
      ],
      "execution_count": 0,
      "outputs": []
    },
    {
      "cell_type": "code",
      "metadata": {
        "id": "eQKzK59awQIq",
        "colab_type": "code",
        "colab": {
          "base_uri": "https://localhost:8080/",
          "height": 298
        },
        "outputId": "69492df0-709f-43fc-8f33-388f9f61571f"
      },
      "source": [
        "data_p.head(3)"
      ],
      "execution_count": 115,
      "outputs": [
        {
          "output_type": "execute_result",
          "data": {
            "text/html": [
              "<div>\n",
              "<style scoped>\n",
              "    .dataframe tbody tr th:only-of-type {\n",
              "        vertical-align: middle;\n",
              "    }\n",
              "\n",
              "    .dataframe tbody tr th {\n",
              "        vertical-align: top;\n",
              "    }\n",
              "\n",
              "    .dataframe thead th {\n",
              "        text-align: right;\n",
              "    }\n",
              "</style>\n",
              "<table border=\"1\" class=\"dataframe\">\n",
              "  <thead>\n",
              "    <tr style=\"text-align: right;\">\n",
              "      <th></th>\n",
              "      <th>_id</th>\n",
              "      <th>contact_details</th>\n",
              "      <th>id</th>\n",
              "      <th>identifiers</th>\n",
              "      <th>images</th>\n",
              "      <th>name</th>\n",
              "      <th>other_names</th>\n",
              "      <th>sort_name</th>\n",
              "      <th>birth_date</th>\n",
              "      <th>gender</th>\n",
              "      <th>death_date</th>\n",
              "      <th>summary</th>\n",
              "      <th>email</th>\n",
              "      <th>biography</th>\n",
              "      <th>national_identity</th>\n",
              "      <th>family_name</th>\n",
              "      <th>given_name</th>\n",
              "      <th>honorific_suffix</th>\n",
              "      <th>honorific_prefix</th>\n",
              "    </tr>\n",
              "  </thead>\n",
              "  <tbody>\n",
              "    <tr>\n",
              "      <th>0</th>\n",
              "      <td>core_person:7848</td>\n",
              "      <td>[]</td>\n",
              "      <td>core_person:7848</td>\n",
              "      <td>[{'identifier': 'abbey-gedow-abdikadir', 'sche...</td>\n",
              "      <td>[{'url': 'http://info.mzalendo.com/media_root/...</td>\n",
              "      <td>Abbey Gedow Abdikadir</td>\n",
              "      <td>[]</td>\n",
              "      <td>Abdikadir</td>\n",
              "      <td>NaN</td>\n",
              "      <td>NaN</td>\n",
              "      <td>NaN</td>\n",
              "      <td>NaN</td>\n",
              "      <td>NaN</td>\n",
              "      <td>NaN</td>\n",
              "      <td>NaN</td>\n",
              "      <td>NaN</td>\n",
              "      <td>NaN</td>\n",
              "      <td>NaN</td>\n",
              "      <td>NaN</td>\n",
              "    </tr>\n",
              "    <tr>\n",
              "      <th>1</th>\n",
              "      <td>core_person:8251</td>\n",
              "      <td>[]</td>\n",
              "      <td>core_person:8251</td>\n",
              "      <td>[{'identifier': 'al-amin-ahmed', 'scheme': 'po...</td>\n",
              "      <td>[{'url': 'http://info.mzalendo.com/media_root/...</td>\n",
              "      <td>Al Amin Ahmed</td>\n",
              "      <td>[]</td>\n",
              "      <td>Ahmed</td>\n",
              "      <td>NaN</td>\n",
              "      <td>NaN</td>\n",
              "      <td>NaN</td>\n",
              "      <td>NaN</td>\n",
              "      <td>NaN</td>\n",
              "      <td>NaN</td>\n",
              "      <td>NaN</td>\n",
              "      <td>NaN</td>\n",
              "      <td>NaN</td>\n",
              "      <td>NaN</td>\n",
              "      <td>NaN</td>\n",
              "    </tr>\n",
              "    <tr>\n",
              "      <th>2</th>\n",
              "      <td>core_person:4435</td>\n",
              "      <td>[]</td>\n",
              "      <td>core_person:4435</td>\n",
              "      <td>[{'identifier': 'abdi-ahmed-ali', 'scheme': 'p...</td>\n",
              "      <td>[{'url': 'http://info.mzalendo.com/media_root/...</td>\n",
              "      <td>Abdi Ahmed Ali</td>\n",
              "      <td>[]</td>\n",
              "      <td>Ali</td>\n",
              "      <td>NaN</td>\n",
              "      <td>NaN</td>\n",
              "      <td>NaN</td>\n",
              "      <td>NaN</td>\n",
              "      <td>NaN</td>\n",
              "      <td>NaN</td>\n",
              "      <td>NaN</td>\n",
              "      <td>NaN</td>\n",
              "      <td>NaN</td>\n",
              "      <td>NaN</td>\n",
              "      <td>NaN</td>\n",
              "    </tr>\n",
              "  </tbody>\n",
              "</table>\n",
              "</div>"
            ],
            "text/plain": [
              "                _id contact_details  ... honorific_suffix honorific_prefix\n",
              "0  core_person:7848              []  ...              NaN              NaN\n",
              "1  core_person:8251              []  ...              NaN              NaN\n",
              "2  core_person:4435              []  ...              NaN              NaN\n",
              "\n",
              "[3 rows x 19 columns]"
            ]
          },
          "metadata": {
            "tags": []
          },
          "execution_count": 115
        }
      ]
    },
    {
      "cell_type": "code",
      "metadata": {
        "id": "ycrmc9NGws2s",
        "colab_type": "code",
        "colab": {}
      },
      "source": [
        "p_columns = ['id', 'name','contact_details', 'images','other_names', 'birth_date', 'gender', 'death_date',\n",
        "             'summary', 'email', 'biography', 'national_identity']\n",
        "\n",
        "data_p = data_p[p_columns]"
      ],
      "execution_count": 0,
      "outputs": []
    },
    {
      "cell_type": "code",
      "metadata": {
        "id": "poAMg7gEVJB0",
        "colab_type": "code",
        "colab": {
          "base_uri": "https://localhost:8080/",
          "height": 193
        },
        "outputId": "bde08a85-cc59-415d-c04a-eeab5d2df50c"
      },
      "source": [
        "data_p.head(3)"
      ],
      "execution_count": 117,
      "outputs": [
        {
          "output_type": "execute_result",
          "data": {
            "text/html": [
              "<div>\n",
              "<style scoped>\n",
              "    .dataframe tbody tr th:only-of-type {\n",
              "        vertical-align: middle;\n",
              "    }\n",
              "\n",
              "    .dataframe tbody tr th {\n",
              "        vertical-align: top;\n",
              "    }\n",
              "\n",
              "    .dataframe thead th {\n",
              "        text-align: right;\n",
              "    }\n",
              "</style>\n",
              "<table border=\"1\" class=\"dataframe\">\n",
              "  <thead>\n",
              "    <tr style=\"text-align: right;\">\n",
              "      <th></th>\n",
              "      <th>id</th>\n",
              "      <th>name</th>\n",
              "      <th>contact_details</th>\n",
              "      <th>images</th>\n",
              "      <th>other_names</th>\n",
              "      <th>birth_date</th>\n",
              "      <th>gender</th>\n",
              "      <th>death_date</th>\n",
              "      <th>summary</th>\n",
              "      <th>email</th>\n",
              "      <th>biography</th>\n",
              "      <th>national_identity</th>\n",
              "    </tr>\n",
              "  </thead>\n",
              "  <tbody>\n",
              "    <tr>\n",
              "      <th>0</th>\n",
              "      <td>core_person:7848</td>\n",
              "      <td>Abbey Gedow Abdikadir</td>\n",
              "      <td>[]</td>\n",
              "      <td>[{'url': 'http://info.mzalendo.com/media_root/...</td>\n",
              "      <td>[]</td>\n",
              "      <td>NaN</td>\n",
              "      <td>NaN</td>\n",
              "      <td>NaN</td>\n",
              "      <td>NaN</td>\n",
              "      <td>NaN</td>\n",
              "      <td>NaN</td>\n",
              "      <td>NaN</td>\n",
              "    </tr>\n",
              "    <tr>\n",
              "      <th>1</th>\n",
              "      <td>core_person:8251</td>\n",
              "      <td>Al Amin Ahmed</td>\n",
              "      <td>[]</td>\n",
              "      <td>[{'url': 'http://info.mzalendo.com/media_root/...</td>\n",
              "      <td>[]</td>\n",
              "      <td>NaN</td>\n",
              "      <td>NaN</td>\n",
              "      <td>NaN</td>\n",
              "      <td>NaN</td>\n",
              "      <td>NaN</td>\n",
              "      <td>NaN</td>\n",
              "      <td>NaN</td>\n",
              "    </tr>\n",
              "    <tr>\n",
              "      <th>2</th>\n",
              "      <td>core_person:4435</td>\n",
              "      <td>Abdi Ahmed Ali</td>\n",
              "      <td>[]</td>\n",
              "      <td>[{'url': 'http://info.mzalendo.com/media_root/...</td>\n",
              "      <td>[]</td>\n",
              "      <td>NaN</td>\n",
              "      <td>NaN</td>\n",
              "      <td>NaN</td>\n",
              "      <td>NaN</td>\n",
              "      <td>NaN</td>\n",
              "      <td>NaN</td>\n",
              "      <td>NaN</td>\n",
              "    </tr>\n",
              "  </tbody>\n",
              "</table>\n",
              "</div>"
            ],
            "text/plain": [
              "                 id                   name  ... biography national_identity\n",
              "0  core_person:7848  Abbey Gedow Abdikadir  ...       NaN               NaN\n",
              "1  core_person:8251          Al Amin Ahmed  ...       NaN               NaN\n",
              "2  core_person:4435         Abdi Ahmed Ali  ...       NaN               NaN\n",
              "\n",
              "[3 rows x 12 columns]"
            ]
          },
          "metadata": {
            "tags": []
          },
          "execution_count": 117
        }
      ]
    },
    {
      "cell_type": "markdown",
      "metadata": {
        "id": "hAN5zobJVixE",
        "colab_type": "text"
      },
      "source": [
        "Clean up *id* and *images*  columns"
      ]
    },
    {
      "cell_type": "code",
      "metadata": {
        "id": "l3ZpfuhUVfX3",
        "colab_type": "code",
        "colab": {}
      },
      "source": [
        "def clean_id(x):\n",
        "  id = x.split(\":\")[1]\n",
        "  return id\n",
        "\n",
        "def get_img_url(x):\n",
        "  if pd.notnull(x):\n",
        "    url = x[0].get('url')\n",
        "    return url\n"
      ],
      "execution_count": 0,
      "outputs": []
    },
    {
      "cell_type": "code",
      "metadata": {
        "id": "SFUiq6PfDbpv",
        "colab_type": "code",
        "colab": {}
      },
      "source": [
        "# Access the ID's only\n",
        "data_p['id'] = data_p['id'].apply(lambda x: clean_id(x))\n",
        "# get url from dictionary\n",
        "data_p['images'] = data_p['images'].apply(lambda x: get_img_url(x))"
      ],
      "execution_count": 0,
      "outputs": []
    },
    {
      "cell_type": "code",
      "metadata": {
        "id": "7t03WuWLDd4M",
        "colab_type": "code",
        "colab": {}
      },
      "source": [
        "# data_p.to_csv('ke_persons.csv')"
      ],
      "execution_count": 0,
      "outputs": []
    },
    {
      "cell_type": "code",
      "metadata": {
        "id": "wsU-VrTWD6AY",
        "colab_type": "code",
        "colab": {}
      },
      "source": [
        ""
      ],
      "execution_count": 0,
      "outputs": []
    }
  ]
}