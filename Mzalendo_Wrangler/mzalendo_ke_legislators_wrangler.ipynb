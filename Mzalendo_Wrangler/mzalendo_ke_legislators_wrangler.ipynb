{
  "nbformat": 4,
  "nbformat_minor": 0,
  "metadata": {
    "colab": {
      "name": "mzalendo_ke_legislators_wrangler.ipynb",
      "provenance": [],
      "collapsed_sections": [],
      "toc_visible": true
    },
    "kernelspec": {
      "name": "python3",
      "display_name": "Python 3"
    },
    "accelerator": "GPU"
  },
  "cells": [
    {
      "cell_type": "markdown",
      "metadata": {
        "id": "NmDzqRecunMQ",
        "colab_type": "text"
      },
      "source": [
        "# Set up Essentials"
      ]
    },
    {
      "cell_type": "code",
      "metadata": {
        "id": "MX6bRjOdu35E",
        "colab_type": "code",
        "colab": {}
      },
      "source": [
        "from google.colab import drive , files\n",
        "import os, os.path\n",
        "import pandas as pd\n",
        "from pandas.io.json import json_normalize \n",
        "import json\n",
        "import requests\n",
        "import numpy as np"
      ],
      "execution_count": 0,
      "outputs": []
    },
    {
      "cell_type": "markdown",
      "metadata": {
        "id": "8CP1uNiiu7uq",
        "colab_type": "text"
      },
      "source": [
        "## **Mount Drive and Operate from within said folder**"
      ]
    },
    {
      "cell_type": "code",
      "metadata": {
        "id": "BF3sZ1xlvJL4",
        "colab_type": "code",
        "colab": {}
      },
      "source": [
        "from google.colab import drive\n",
        "drive.mount('/content/drive')"
      ],
      "execution_count": 0,
      "outputs": []
    },
    {
      "cell_type": "code",
      "metadata": {
        "id": "cl6MU0c6vMJ_",
        "colab_type": "code",
        "outputId": "68bd1b99-da2e-4275-919b-73ed2eda25e0",
        "colab": {
          "base_uri": "https://localhost:8080/",
          "height": 34
        }
      },
      "source": [
        "%cd /content/drive/'My Drive'/Colab_Notebooks/mzalendo"
      ],
      "execution_count": 4,
      "outputs": [
        {
          "output_type": "stream",
          "text": [
            "/content/drive/My Drive/Colab_Notebooks/mzalendo\n"
          ],
          "name": "stdout"
        }
      ]
    },
    {
      "cell_type": "code",
      "metadata": {
        "id": "HfKm9sw9qSgk",
        "colab_type": "code",
        "colab": {}
      },
      "source": [
        "persons = \"http://info.mzalendo.com/media_root/popolo_json/persons.json\"\n",
        "organization = \"http://info.mzalendo.com/media_root/popolo_json/organizations.json\"\n",
        "memberships = \"http://info.mzalendo.com/media_root/popolo_json/memberships.json\"\n",
        "pombola = \"http://info.mzalendo.com/media_root/popolo_json/memberships.json\"\n",
        "candidates = \"https://docs.google.com/spreadsheets/d/e/2PACX-1vTR3hgRnOrPi6Opkr3Z622_onNYEtzds51TxqS1-VBEcDqP8O0nLjr1XwRkQYCGLrusNL6nJLyxtQbe/pub?gid=671749755&single=true&output=csv\"\n",
        "elected = \"https://docs.google.com/spreadsheets/d/e/2PACX-1vTR3hgRnOrPi6Opkr3Z622_onNYEtzds51TxqS1-VBEcDqP8O0nLjr1XwRkQYCGLrusNL6nJLyxtQbe/pub?gid=655626479&single=true&output=csv\"\n"
      ],
      "execution_count": 0,
      "outputs": []
    },
    {
      "cell_type": "markdown",
      "metadata": {
        "id": "eDO7_aFQNoj6",
        "colab_type": "text"
      },
      "source": [
        "## Work from file with nested jsons'"
      ]
    },
    {
      "cell_type": "code",
      "metadata": {
        "id": "Y3yJ1MnKmQPY",
        "colab_type": "code",
        "colab": {}
      },
      "source": [
        "with open(pombola) as data_file:    \n",
        "    data = json.load(data_file) \n",
        "\n",
        "# data = json_normalize(\"pombola.json\")"
      ],
      "execution_count": 0,
      "outputs": []
    },
    {
      "cell_type": "code",
      "metadata": {
        "id": "IDarGGo-mQTL",
        "colab_type": "code",
        "colab": {}
      },
      "source": [
        "df = json_normalize(data)"
      ],
      "execution_count": 0,
      "outputs": []
    },
    {
      "cell_type": "code",
      "metadata": {
        "id": "XW40Vl7ZmS6d",
        "colab_type": "code",
        "outputId": "187b53ee-0147-4d97-87e3-2516e727f482",
        "colab": {
          "base_uri": "https://localhost:8080/",
          "height": 80
        }
      },
      "source": [
        "df.head()"
      ],
      "execution_count": 0,
      "outputs": [
        {
          "output_type": "execute_result",
          "data": {
            "text/html": [
              "<div>\n",
              "<style scoped>\n",
              "    .dataframe tbody tr th:only-of-type {\n",
              "        vertical-align: middle;\n",
              "    }\n",
              "\n",
              "    .dataframe tbody tr th {\n",
              "        vertical-align: top;\n",
              "    }\n",
              "\n",
              "    .dataframe thead th {\n",
              "        text-align: right;\n",
              "    }\n",
              "</style>\n",
              "<table border=\"1\" class=\"dataframe\">\n",
              "  <thead>\n",
              "    <tr style=\"text-align: right;\">\n",
              "      <th></th>\n",
              "      <th>areas</th>\n",
              "      <th>events</th>\n",
              "      <th>organizations</th>\n",
              "      <th>persons</th>\n",
              "      <th>posts</th>\n",
              "    </tr>\n",
              "  </thead>\n",
              "  <tbody>\n",
              "    <tr>\n",
              "      <th>0</th>\n",
              "      <td>[{'area_type': 'CON', 'id': 'mapit:4812', 'ide...</td>\n",
              "      <td>[{'classification': 'legislative period', 'end...</td>\n",
              "      <td>[{'category': 'other', 'classification': 'Unkn...</td>\n",
              "      <td>[{'contact_details': [], 'id': 'core_person:78...</td>\n",
              "      <td>[]</td>\n",
              "    </tr>\n",
              "  </tbody>\n",
              "</table>\n",
              "</div>"
            ],
            "text/plain": [
              "                                               areas  ... posts\n",
              "0  [{'area_type': 'CON', 'id': 'mapit:4812', 'ide...  ...    []\n",
              "\n",
              "[1 rows x 5 columns]"
            ]
          },
          "metadata": {
            "tags": []
          },
          "execution_count": 18
        }
      ]
    },
    {
      "cell_type": "code",
      "metadata": {
        "id": "td2Uw3hvrzRg",
        "colab_type": "code",
        "outputId": "9d16a2a8-8dd5-4028-f0cc-358026508212",
        "colab": {
          "base_uri": "https://localhost:8080/",
          "height": 34
        }
      },
      "source": [
        "df.columns"
      ],
      "execution_count": 0,
      "outputs": [
        {
          "output_type": "execute_result",
          "data": {
            "text/plain": [
              "Index(['areas', 'events', 'organizations', 'persons', 'posts'], dtype='object')"
            ]
          },
          "metadata": {
            "tags": []
          },
          "execution_count": 27
        }
      ]
    },
    {
      "cell_type": "code",
      "metadata": {
        "id": "MeNUicCCqw7y",
        "colab_type": "code",
        "outputId": "9d64e695-bec5-4206-dc08-9d87220fea95",
        "colab": {
          "base_uri": "https://localhost:8080/",
          "height": 34
        }
      },
      "source": [
        "len(df['persons'][0])"
      ],
      "execution_count": 0,
      "outputs": [
        {
          "output_type": "execute_result",
          "data": {
            "text/plain": [
              "13267"
            ]
          },
          "metadata": {
            "tags": []
          },
          "execution_count": 31
        }
      ]
    },
    {
      "cell_type": "code",
      "metadata": {
        "id": "c7fauqj-q-u0",
        "colab_type": "code",
        "colab": {}
      },
      "source": [
        "df_P = pd.DataFrame(df['persons'][0])"
      ],
      "execution_count": 0,
      "outputs": []
    },
    {
      "cell_type": "code",
      "metadata": {
        "id": "9-OkMiSPslea",
        "colab_type": "code",
        "outputId": "d3763233-cfeb-44da-b79b-fa64da01552c",
        "colab": {
          "base_uri": "https://localhost:8080/",
          "height": 298
        }
      },
      "source": [
        "df_P.head(3)"
      ],
      "execution_count": 0,
      "outputs": [
        {
          "output_type": "execute_result",
          "data": {
            "text/html": [
              "<div>\n",
              "<style scoped>\n",
              "    .dataframe tbody tr th:only-of-type {\n",
              "        vertical-align: middle;\n",
              "    }\n",
              "\n",
              "    .dataframe tbody tr th {\n",
              "        vertical-align: top;\n",
              "    }\n",
              "\n",
              "    .dataframe thead th {\n",
              "        text-align: right;\n",
              "    }\n",
              "</style>\n",
              "<table border=\"1\" class=\"dataframe\">\n",
              "  <thead>\n",
              "    <tr style=\"text-align: right;\">\n",
              "      <th></th>\n",
              "      <th>contact_details</th>\n",
              "      <th>id</th>\n",
              "      <th>identifiers</th>\n",
              "      <th>images</th>\n",
              "      <th>memberships</th>\n",
              "      <th>name</th>\n",
              "      <th>other_names</th>\n",
              "      <th>sort_name</th>\n",
              "      <th>birth_date</th>\n",
              "      <th>gender</th>\n",
              "      <th>death_date</th>\n",
              "      <th>summary</th>\n",
              "      <th>email</th>\n",
              "      <th>biography</th>\n",
              "      <th>national_identity</th>\n",
              "      <th>family_name</th>\n",
              "      <th>given_name</th>\n",
              "      <th>honorific_suffix</th>\n",
              "      <th>honorific_prefix</th>\n",
              "    </tr>\n",
              "  </thead>\n",
              "  <tbody>\n",
              "    <tr>\n",
              "      <th>0</th>\n",
              "      <td>[]</td>\n",
              "      <td>core_person:7848</td>\n",
              "      <td>[{'identifier': 'abbey-gedow-abdikadir', 'sche...</td>\n",
              "      <td>[{'url': 'http://info.mzalendo.com/media_root/...</td>\n",
              "      <td>[{'area': None, 'end_date': '2013-03-04', 'id'...</td>\n",
              "      <td>Abbey Gedow Abdikadir</td>\n",
              "      <td>[]</td>\n",
              "      <td>Abdikadir</td>\n",
              "      <td>NaN</td>\n",
              "      <td>NaN</td>\n",
              "      <td>NaN</td>\n",
              "      <td>NaN</td>\n",
              "      <td>NaN</td>\n",
              "      <td>NaN</td>\n",
              "      <td>NaN</td>\n",
              "      <td>NaN</td>\n",
              "      <td>NaN</td>\n",
              "      <td>NaN</td>\n",
              "      <td>NaN</td>\n",
              "    </tr>\n",
              "    <tr>\n",
              "      <th>1</th>\n",
              "      <td>[]</td>\n",
              "      <td>core_person:8251</td>\n",
              "      <td>[{'identifier': 'al-amin-ahmed', 'scheme': 'po...</td>\n",
              "      <td>[{'url': 'http://info.mzalendo.com/media_root/...</td>\n",
              "      <td>[{'id': 'core_position:21297', 'identifiers': ...</td>\n",
              "      <td>Al Amin Ahmed</td>\n",
              "      <td>[]</td>\n",
              "      <td>Ahmed</td>\n",
              "      <td>NaN</td>\n",
              "      <td>NaN</td>\n",
              "      <td>NaN</td>\n",
              "      <td>NaN</td>\n",
              "      <td>NaN</td>\n",
              "      <td>NaN</td>\n",
              "      <td>NaN</td>\n",
              "      <td>NaN</td>\n",
              "      <td>NaN</td>\n",
              "      <td>NaN</td>\n",
              "      <td>NaN</td>\n",
              "    </tr>\n",
              "    <tr>\n",
              "      <th>2</th>\n",
              "      <td>[]</td>\n",
              "      <td>core_person:4435</td>\n",
              "      <td>[{'identifier': 'abdi-ahmed-ali', 'scheme': 'p...</td>\n",
              "      <td>[{'url': 'http://info.mzalendo.com/media_root/...</td>\n",
              "      <td>[{'id': 'core_position:13754', 'identifiers': ...</td>\n",
              "      <td>Abdi Ahmed Ali</td>\n",
              "      <td>[]</td>\n",
              "      <td>Ali</td>\n",
              "      <td>NaN</td>\n",
              "      <td>NaN</td>\n",
              "      <td>NaN</td>\n",
              "      <td>NaN</td>\n",
              "      <td>NaN</td>\n",
              "      <td>NaN</td>\n",
              "      <td>NaN</td>\n",
              "      <td>NaN</td>\n",
              "      <td>NaN</td>\n",
              "      <td>NaN</td>\n",
              "      <td>NaN</td>\n",
              "    </tr>\n",
              "  </tbody>\n",
              "</table>\n",
              "</div>"
            ],
            "text/plain": [
              "  contact_details                id  ... honorific_suffix honorific_prefix\n",
              "0              []  core_person:7848  ...              NaN              NaN\n",
              "1              []  core_person:8251  ...              NaN              NaN\n",
              "2              []  core_person:4435  ...              NaN              NaN\n",
              "\n",
              "[3 rows x 19 columns]"
            ]
          },
          "metadata": {
            "tags": []
          },
          "execution_count": 34
        }
      ]
    },
    {
      "cell_type": "code",
      "metadata": {
        "id": "QhZw5uwRtWoX",
        "colab_type": "code",
        "colab": {}
      },
      "source": [
        ""
      ],
      "execution_count": 0,
      "outputs": []
    },
    {
      "cell_type": "markdown",
      "metadata": {
        "id": "Qg7BATQXN3nI",
        "colab_type": "text"
      },
      "source": [
        "## Collect All Candidates data"
      ]
    },
    {
      "cell_type": "code",
      "metadata": {
        "id": "5q-Ese_kN_tU",
        "colab_type": "code",
        "colab": {}
      },
      "source": [
        "all = pd.read_csv(candidates)\n",
        "elected = pd.read_csv(elected)"
      ],
      "execution_count": 0,
      "outputs": []
    },
    {
      "cell_type": "code",
      "metadata": {
        "id": "h7BHC_PaOh1B",
        "colab_type": "code",
        "outputId": "34e744be-a33a-4208-9087-e0cf5648b32e",
        "colab": {
          "base_uri": "https://localhost:8080/",
          "height": 142
        }
      },
      "source": [
        "all.head(3)"
      ],
      "execution_count": 0,
      "outputs": [
        {
          "output_type": "execute_result",
          "data": {
            "text/html": [
              "<div>\n",
              "<style scoped>\n",
              "    .dataframe tbody tr th:only-of-type {\n",
              "        vertical-align: middle;\n",
              "    }\n",
              "\n",
              "    .dataframe tbody tr th {\n",
              "        vertical-align: top;\n",
              "    }\n",
              "\n",
              "    .dataframe thead th {\n",
              "        text-align: right;\n",
              "    }\n",
              "</style>\n",
              "<table border=\"1\" class=\"dataframe\">\n",
              "  <thead>\n",
              "    <tr style=\"text-align: right;\">\n",
              "      <th></th>\n",
              "      <th>name</th>\n",
              "      <th>party</th>\n",
              "      <th>party-id</th>\n",
              "      <th>p-abbrv</th>\n",
              "      <th>gender</th>\n",
              "      <th>position</th>\n",
              "      <th>county</th>\n",
              "      <th>county-id</th>\n",
              "      <th>constituency</th>\n",
              "      <th>constituency-id</th>\n",
              "      <th>ward</th>\n",
              "      <th>ward-id</th>\n",
              "    </tr>\n",
              "  </thead>\n",
              "  <tbody>\n",
              "    <tr>\n",
              "      <th>0</th>\n",
              "      <td>JOHN EKURU LONGOGGY AUKOT</td>\n",
              "      <td>THIRDWAY ALLIANCE KENYA</td>\n",
              "      <td>76</td>\n",
              "      <td>TAK</td>\n",
              "      <td>Male</td>\n",
              "      <td>president</td>\n",
              "      <td>NaN</td>\n",
              "      <td>NaN</td>\n",
              "      <td>NaN</td>\n",
              "      <td>NaN</td>\n",
              "      <td>NaN</td>\n",
              "      <td>NaN</td>\n",
              "    </tr>\n",
              "    <tr>\n",
              "      <th>1</th>\n",
              "      <td>MOHAMED ABDUBA DIDA</td>\n",
              "      <td>ALLIANCE FOR REALCHANGE</td>\n",
              "      <td>55</td>\n",
              "      <td>ARK</td>\n",
              "      <td>Male</td>\n",
              "      <td>president</td>\n",
              "      <td>NaN</td>\n",
              "      <td>NaN</td>\n",
              "      <td>NaN</td>\n",
              "      <td>NaN</td>\n",
              "      <td>NaN</td>\n",
              "      <td>NaN</td>\n",
              "    </tr>\n",
              "    <tr>\n",
              "      <th>2</th>\n",
              "      <td>SHAKHALAGA KHWA JIRONGO</td>\n",
              "      <td>UNITED DEMOCRATIC PARTY</td>\n",
              "      <td>64</td>\n",
              "      <td>UDP</td>\n",
              "      <td>Male</td>\n",
              "      <td>president</td>\n",
              "      <td>NaN</td>\n",
              "      <td>NaN</td>\n",
              "      <td>NaN</td>\n",
              "      <td>NaN</td>\n",
              "      <td>NaN</td>\n",
              "      <td>NaN</td>\n",
              "    </tr>\n",
              "  </tbody>\n",
              "</table>\n",
              "</div>"
            ],
            "text/plain": [
              "                        name                    party  ... ward ward-id\n",
              "0  JOHN EKURU LONGOGGY AUKOT  THIRDWAY ALLIANCE KENYA  ...  NaN     NaN\n",
              "1        MOHAMED ABDUBA DIDA  ALLIANCE FOR REALCHANGE  ...  NaN     NaN\n",
              "2    SHAKHALAGA KHWA JIRONGO  UNITED DEMOCRATIC PARTY  ...  NaN     NaN\n",
              "\n",
              "[3 rows x 12 columns]"
            ]
          },
          "metadata": {
            "tags": []
          },
          "execution_count": 25
        }
      ]
    },
    {
      "cell_type": "code",
      "metadata": {
        "id": "JcnI9r3CO2AW",
        "colab_type": "code",
        "outputId": "05226e81-4ae7-43c9-c484-53fb6f61fbd6",
        "colab": {
          "base_uri": "https://localhost:8080/",
          "height": 34
        }
      },
      "source": [
        "all.shape"
      ],
      "execution_count": 0,
      "outputs": [
        {
          "output_type": "execute_result",
          "data": {
            "text/plain": [
              "(14758, 12)"
            ]
          },
          "metadata": {
            "tags": []
          },
          "execution_count": 26
        }
      ]
    },
    {
      "cell_type": "markdown",
      "metadata": {
        "id": "Ew7AEY9kiVZB",
        "colab_type": "text"
      },
      "source": [
        "## Isolate Elected legislators"
      ]
    },
    {
      "cell_type": "code",
      "metadata": {
        "id": "xIxk0yE1O4dV",
        "colab_type": "code",
        "colab": {}
      },
      "source": [
        "all['elected'] = np.where(all['name'].isin(elected['name'].str.upper()),\"elected-2017\", \"not-elected\")\n"
      ],
      "execution_count": 0,
      "outputs": []
    },
    {
      "cell_type": "code",
      "metadata": {
        "id": "GEWLC3Z0ilk1",
        "colab_type": "code",
        "outputId": "f9aab78f-da96-487c-b9b3-8862bc1d2a02",
        "colab": {
          "base_uri": "https://localhost:8080/",
          "height": 142
        }
      },
      "source": [
        "all.head(3)"
      ],
      "execution_count": 0,
      "outputs": [
        {
          "output_type": "execute_result",
          "data": {
            "text/html": [
              "<div>\n",
              "<style scoped>\n",
              "    .dataframe tbody tr th:only-of-type {\n",
              "        vertical-align: middle;\n",
              "    }\n",
              "\n",
              "    .dataframe tbody tr th {\n",
              "        vertical-align: top;\n",
              "    }\n",
              "\n",
              "    .dataframe thead th {\n",
              "        text-align: right;\n",
              "    }\n",
              "</style>\n",
              "<table border=\"1\" class=\"dataframe\">\n",
              "  <thead>\n",
              "    <tr style=\"text-align: right;\">\n",
              "      <th></th>\n",
              "      <th>name</th>\n",
              "      <th>party</th>\n",
              "      <th>party-id</th>\n",
              "      <th>p-abbrv</th>\n",
              "      <th>gender</th>\n",
              "      <th>position</th>\n",
              "      <th>county</th>\n",
              "      <th>county-id</th>\n",
              "      <th>constituency</th>\n",
              "      <th>constituency-id</th>\n",
              "      <th>ward</th>\n",
              "      <th>ward-id</th>\n",
              "      <th>elected</th>\n",
              "    </tr>\n",
              "  </thead>\n",
              "  <tbody>\n",
              "    <tr>\n",
              "      <th>0</th>\n",
              "      <td>JOHN EKURU LONGOGGY AUKOT</td>\n",
              "      <td>THIRDWAY ALLIANCE KENYA</td>\n",
              "      <td>76</td>\n",
              "      <td>TAK</td>\n",
              "      <td>Male</td>\n",
              "      <td>president</td>\n",
              "      <td>NaN</td>\n",
              "      <td>NaN</td>\n",
              "      <td>NaN</td>\n",
              "      <td>NaN</td>\n",
              "      <td>NaN</td>\n",
              "      <td>NaN</td>\n",
              "      <td>not-elected</td>\n",
              "    </tr>\n",
              "    <tr>\n",
              "      <th>1</th>\n",
              "      <td>MOHAMED ABDUBA DIDA</td>\n",
              "      <td>ALLIANCE FOR REALCHANGE</td>\n",
              "      <td>55</td>\n",
              "      <td>ARK</td>\n",
              "      <td>Male</td>\n",
              "      <td>president</td>\n",
              "      <td>NaN</td>\n",
              "      <td>NaN</td>\n",
              "      <td>NaN</td>\n",
              "      <td>NaN</td>\n",
              "      <td>NaN</td>\n",
              "      <td>NaN</td>\n",
              "      <td>not-elected</td>\n",
              "    </tr>\n",
              "    <tr>\n",
              "      <th>2</th>\n",
              "      <td>SHAKHALAGA KHWA JIRONGO</td>\n",
              "      <td>UNITED DEMOCRATIC PARTY</td>\n",
              "      <td>64</td>\n",
              "      <td>UDP</td>\n",
              "      <td>Male</td>\n",
              "      <td>president</td>\n",
              "      <td>NaN</td>\n",
              "      <td>NaN</td>\n",
              "      <td>NaN</td>\n",
              "      <td>NaN</td>\n",
              "      <td>NaN</td>\n",
              "      <td>NaN</td>\n",
              "      <td>not-elected</td>\n",
              "    </tr>\n",
              "  </tbody>\n",
              "</table>\n",
              "</div>"
            ],
            "text/plain": [
              "                        name                    party  ... ward-id      elected\n",
              "0  JOHN EKURU LONGOGGY AUKOT  THIRDWAY ALLIANCE KENYA  ...     NaN  not-elected\n",
              "1        MOHAMED ABDUBA DIDA  ALLIANCE FOR REALCHANGE  ...     NaN  not-elected\n",
              "2    SHAKHALAGA KHWA JIRONGO  UNITED DEMOCRATIC PARTY  ...     NaN  not-elected\n",
              "\n",
              "[3 rows x 13 columns]"
            ]
          },
          "metadata": {
            "tags": []
          },
          "execution_count": 28
        }
      ]
    },
    {
      "cell_type": "code",
      "metadata": {
        "id": "mFVJBgq0in4d",
        "colab_type": "code",
        "colab": {}
      },
      "source": [
        "# all.to_csv(\"./ke_legislators.csv\")"
      ],
      "execution_count": 0,
      "outputs": []
    },
    {
      "cell_type": "code",
      "metadata": {
        "id": "jo8dHxD1kIcO",
        "colab_type": "code",
        "colab": {}
      },
      "source": [
        ""
      ],
      "execution_count": 0,
      "outputs": []
    },
    {
      "cell_type": "markdown",
      "metadata": {
        "id": "BAbS8yaBwXWu",
        "colab_type": "text"
      },
      "source": [
        "# Persons Section"
      ]
    },
    {
      "cell_type": "markdown",
      "metadata": {
        "id": "WJWYcWhJvoxd",
        "colab_type": "text"
      },
      "source": [
        "Access the json file"
      ]
    },
    {
      "cell_type": "code",
      "metadata": {
        "id": "6jBAjGy2vqWM",
        "colab_type": "code",
        "colab": {}
      },
      "source": [
        "data_p = pd.read_json(persons)"
      ],
      "execution_count": 0,
      "outputs": []
    },
    {
      "cell_type": "code",
      "metadata": {
        "id": "eQKzK59awQIq",
        "colab_type": "code",
        "outputId": "525e58a8-6050-4811-a337-26a6d50ee40c",
        "colab": {
          "base_uri": "https://localhost:8080/",
          "height": 298
        }
      },
      "source": [
        "data_p.head(3)"
      ],
      "execution_count": 0,
      "outputs": [
        {
          "output_type": "execute_result",
          "data": {
            "text/html": [
              "<div>\n",
              "<style scoped>\n",
              "    .dataframe tbody tr th:only-of-type {\n",
              "        vertical-align: middle;\n",
              "    }\n",
              "\n",
              "    .dataframe tbody tr th {\n",
              "        vertical-align: top;\n",
              "    }\n",
              "\n",
              "    .dataframe thead th {\n",
              "        text-align: right;\n",
              "    }\n",
              "</style>\n",
              "<table border=\"1\" class=\"dataframe\">\n",
              "  <thead>\n",
              "    <tr style=\"text-align: right;\">\n",
              "      <th></th>\n",
              "      <th>_id</th>\n",
              "      <th>contact_details</th>\n",
              "      <th>id</th>\n",
              "      <th>identifiers</th>\n",
              "      <th>images</th>\n",
              "      <th>name</th>\n",
              "      <th>other_names</th>\n",
              "      <th>sort_name</th>\n",
              "      <th>birth_date</th>\n",
              "      <th>gender</th>\n",
              "      <th>death_date</th>\n",
              "      <th>summary</th>\n",
              "      <th>email</th>\n",
              "      <th>biography</th>\n",
              "      <th>national_identity</th>\n",
              "      <th>family_name</th>\n",
              "      <th>given_name</th>\n",
              "      <th>honorific_suffix</th>\n",
              "      <th>honorific_prefix</th>\n",
              "    </tr>\n",
              "  </thead>\n",
              "  <tbody>\n",
              "    <tr>\n",
              "      <th>0</th>\n",
              "      <td>core_person:7848</td>\n",
              "      <td>[]</td>\n",
              "      <td>core_person:7848</td>\n",
              "      <td>[{'identifier': 'abbey-gedow-abdikadir', 'sche...</td>\n",
              "      <td>[{'url': 'http://info.mzalendo.com/media_root/...</td>\n",
              "      <td>Abbey Gedow Abdikadir</td>\n",
              "      <td>[]</td>\n",
              "      <td>Abdikadir</td>\n",
              "      <td>NaN</td>\n",
              "      <td>NaN</td>\n",
              "      <td>NaN</td>\n",
              "      <td>NaN</td>\n",
              "      <td>NaN</td>\n",
              "      <td>NaN</td>\n",
              "      <td>NaN</td>\n",
              "      <td>NaN</td>\n",
              "      <td>NaN</td>\n",
              "      <td>NaN</td>\n",
              "      <td>NaN</td>\n",
              "    </tr>\n",
              "    <tr>\n",
              "      <th>1</th>\n",
              "      <td>core_person:8251</td>\n",
              "      <td>[]</td>\n",
              "      <td>core_person:8251</td>\n",
              "      <td>[{'identifier': 'al-amin-ahmed', 'scheme': 'po...</td>\n",
              "      <td>[{'url': 'http://info.mzalendo.com/media_root/...</td>\n",
              "      <td>Al Amin Ahmed</td>\n",
              "      <td>[]</td>\n",
              "      <td>Ahmed</td>\n",
              "      <td>NaN</td>\n",
              "      <td>NaN</td>\n",
              "      <td>NaN</td>\n",
              "      <td>NaN</td>\n",
              "      <td>NaN</td>\n",
              "      <td>NaN</td>\n",
              "      <td>NaN</td>\n",
              "      <td>NaN</td>\n",
              "      <td>NaN</td>\n",
              "      <td>NaN</td>\n",
              "      <td>NaN</td>\n",
              "    </tr>\n",
              "    <tr>\n",
              "      <th>2</th>\n",
              "      <td>core_person:4435</td>\n",
              "      <td>[]</td>\n",
              "      <td>core_person:4435</td>\n",
              "      <td>[{'identifier': 'abdi-ahmed-ali', 'scheme': 'p...</td>\n",
              "      <td>[{'url': 'http://info.mzalendo.com/media_root/...</td>\n",
              "      <td>Abdi Ahmed Ali</td>\n",
              "      <td>[]</td>\n",
              "      <td>Ali</td>\n",
              "      <td>NaN</td>\n",
              "      <td>NaN</td>\n",
              "      <td>NaN</td>\n",
              "      <td>NaN</td>\n",
              "      <td>NaN</td>\n",
              "      <td>NaN</td>\n",
              "      <td>NaN</td>\n",
              "      <td>NaN</td>\n",
              "      <td>NaN</td>\n",
              "      <td>NaN</td>\n",
              "      <td>NaN</td>\n",
              "    </tr>\n",
              "  </tbody>\n",
              "</table>\n",
              "</div>"
            ],
            "text/plain": [
              "                _id contact_details  ... honorific_suffix honorific_prefix\n",
              "0  core_person:7848              []  ...              NaN              NaN\n",
              "1  core_person:8251              []  ...              NaN              NaN\n",
              "2  core_person:4435              []  ...              NaN              NaN\n",
              "\n",
              "[3 rows x 19 columns]"
            ]
          },
          "metadata": {
            "tags": []
          },
          "execution_count": 7
        }
      ]
    },
    {
      "cell_type": "code",
      "metadata": {
        "id": "ycrmc9NGws2s",
        "colab_type": "code",
        "colab": {}
      },
      "source": [
        "p_columns = ['id', 'name','contact_details', 'images', 'birth_date', 'gender', 'death_date',\n",
        "             'summary', 'email', 'biography', 'national_identity']\n",
        "\n",
        "data_p = data_p[p_columns]"
      ],
      "execution_count": 0,
      "outputs": []
    },
    {
      "cell_type": "code",
      "metadata": {
        "id": "poAMg7gEVJB0",
        "colab_type": "code",
        "outputId": "704dad08-19a9-43f6-bf86-bf1197b53611",
        "colab": {
          "base_uri": "https://localhost:8080/",
          "height": 142
        }
      },
      "source": [
        "data_p.head(3)"
      ],
      "execution_count": 0,
      "outputs": [
        {
          "output_type": "execute_result",
          "data": {
            "text/html": [
              "<div>\n",
              "<style scoped>\n",
              "    .dataframe tbody tr th:only-of-type {\n",
              "        vertical-align: middle;\n",
              "    }\n",
              "\n",
              "    .dataframe tbody tr th {\n",
              "        vertical-align: top;\n",
              "    }\n",
              "\n",
              "    .dataframe thead th {\n",
              "        text-align: right;\n",
              "    }\n",
              "</style>\n",
              "<table border=\"1\" class=\"dataframe\">\n",
              "  <thead>\n",
              "    <tr style=\"text-align: right;\">\n",
              "      <th></th>\n",
              "      <th>id</th>\n",
              "      <th>name</th>\n",
              "      <th>contact_details</th>\n",
              "      <th>images</th>\n",
              "      <th>birth_date</th>\n",
              "      <th>gender</th>\n",
              "      <th>death_date</th>\n",
              "      <th>summary</th>\n",
              "      <th>email</th>\n",
              "      <th>biography</th>\n",
              "      <th>national_identity</th>\n",
              "      <th>phone</th>\n",
              "    </tr>\n",
              "  </thead>\n",
              "  <tbody>\n",
              "    <tr>\n",
              "      <th>0</th>\n",
              "      <td>7848</td>\n",
              "      <td>Abbey Gedow Abdikadir</td>\n",
              "      <td>[]</td>\n",
              "      <td>http://info.mzalendo.com/media_root/images/2BB...</td>\n",
              "      <td>NaN</td>\n",
              "      <td>NaN</td>\n",
              "      <td>NaN</td>\n",
              "      <td>NaN</td>\n",
              "      <td>None</td>\n",
              "      <td>NaN</td>\n",
              "      <td>NaN</td>\n",
              "      <td>None</td>\n",
              "    </tr>\n",
              "    <tr>\n",
              "      <th>1</th>\n",
              "      <td>8251</td>\n",
              "      <td>Al Amin Ahmed</td>\n",
              "      <td>[]</td>\n",
              "      <td>http://info.mzalendo.com/media_root/images/C17...</td>\n",
              "      <td>NaN</td>\n",
              "      <td>NaN</td>\n",
              "      <td>NaN</td>\n",
              "      <td>NaN</td>\n",
              "      <td>None</td>\n",
              "      <td>NaN</td>\n",
              "      <td>NaN</td>\n",
              "      <td>None</td>\n",
              "    </tr>\n",
              "    <tr>\n",
              "      <th>2</th>\n",
              "      <td>4435</td>\n",
              "      <td>Abdi Ahmed Ali</td>\n",
              "      <td>[]</td>\n",
              "      <td>http://info.mzalendo.com/media_root/images/863...</td>\n",
              "      <td>NaN</td>\n",
              "      <td>NaN</td>\n",
              "      <td>NaN</td>\n",
              "      <td>NaN</td>\n",
              "      <td>None</td>\n",
              "      <td>NaN</td>\n",
              "      <td>NaN</td>\n",
              "      <td>None</td>\n",
              "    </tr>\n",
              "  </tbody>\n",
              "</table>\n",
              "</div>"
            ],
            "text/plain": [
              "     id                   name  ... national_identity phone\n",
              "0  7848  Abbey Gedow Abdikadir  ...               NaN  None\n",
              "1  8251          Al Amin Ahmed  ...               NaN  None\n",
              "2  4435         Abdi Ahmed Ali  ...               NaN  None\n",
              "\n",
              "[3 rows x 12 columns]"
            ]
          },
          "metadata": {
            "tags": []
          },
          "execution_count": 13
        }
      ]
    },
    {
      "cell_type": "markdown",
      "metadata": {
        "id": "hAN5zobJVixE",
        "colab_type": "text"
      },
      "source": [
        "Clean up *id* and *images*  columns"
      ]
    },
    {
      "cell_type": "code",
      "metadata": {
        "id": "l3ZpfuhUVfX3",
        "colab_type": "code",
        "colab": {}
      },
      "source": [
        "def clean_id(x):\n",
        "  if pd.notnull(x):\n",
        "    id = x.split(\":\")[1]\n",
        "    return id\n",
        "\n",
        "def get_img_url(x):\n",
        "  if pd.notnull(x):\n",
        "    url = x[0].get('url')\n",
        "    return url\n"
      ],
      "execution_count": 0,
      "outputs": []
    },
    {
      "cell_type": "markdown",
      "metadata": {
        "id": "XrV2WmhSapy_",
        "colab_type": "text"
      },
      "source": [
        "get emails from contacts columns"
      ]
    },
    {
      "cell_type": "code",
      "metadata": {
        "id": "ixA3NxvMJwE6",
        "colab_type": "code",
        "colab": {}
      },
      "source": [
        "def get_email(x):\n",
        "  for i in x:\n",
        "    contacts_type = i.get('type')\n",
        "    if contacts_type == \"email\":\n",
        "      email = i.get('value')\n",
        "      return email\n",
        "\n",
        "def get_phone(x):\n",
        "  for i in x:\n",
        "    contacts_type = i.get('type')\n",
        "    if contacts_type == \"phone\":\n",
        "      phone = i.get('value')\n",
        "      return phone\n",
        "\n",
        "def get_address(x):\n",
        "  for i in x:\n",
        "    contacts_type = i.get('type')\n",
        "    if contacts_type == \"address\":\n",
        "      address = i.get('value')\n",
        "      return address\n",
        "\n",
        "\n",
        "\n",
        "\n"
      ],
      "execution_count": 0,
      "outputs": []
    },
    {
      "cell_type": "code",
      "metadata": {
        "id": "7t03WuWLDd4M",
        "colab_type": "code",
        "colab": {}
      },
      "source": [
        "# data_p.to_csv('ke_persons.csv')"
      ],
      "execution_count": 0,
      "outputs": []
    },
    {
      "cell_type": "code",
      "metadata": {
        "id": "SFUiq6PfDbpv",
        "colab_type": "code",
        "colab": {}
      },
      "source": [
        "# Access the ID's only\n",
        "data_p['id'] = data_p['id'].apply(lambda x: clean_id(x))\n",
        "# get url from dictionary\n",
        "data_p['images'] = data_p['images'].apply(lambda x: get_img_url(x))\n",
        "# add email\n",
        "data_p['email'] = data_p['contact_details'].apply(lambda x: get_email(x)  )\n",
        "# add phone no.'s\n",
        "data_p['phone'] = data_p['contact_details'].apply(lambda x: get_phone(x)  )"
      ],
      "execution_count": 0,
      "outputs": []
    },
    {
      "cell_type": "code",
      "metadata": {
        "id": "LyU-jDYjSZO-",
        "colab_type": "code",
        "colab": {}
      },
      "source": [
        ""
      ],
      "execution_count": 0,
      "outputs": []
    },
    {
      "cell_type": "markdown",
      "metadata": {
        "id": "Omrgxi5rO4tN",
        "colab_type": "text"
      },
      "source": [
        "# Organizations Section"
      ]
    },
    {
      "cell_type": "code",
      "metadata": {
        "id": "XDyUJPVQO8AF",
        "colab_type": "code",
        "outputId": "33ad3bc9-5540-4152-8805-62e3cd60c6d7",
        "colab": {
          "base_uri": "https://localhost:8080/",
          "height": 141
        }
      },
      "source": [
        "data_org = pd.read_json(organization)\n",
        "data_org.head(3)"
      ],
      "execution_count": 0,
      "outputs": [
        {
          "output_type": "execute_result",
          "data": {
            "text/html": [
              "<div>\n",
              "<style scoped>\n",
              "    .dataframe tbody tr th:only-of-type {\n",
              "        vertical-align: middle;\n",
              "    }\n",
              "\n",
              "    .dataframe tbody tr th {\n",
              "        vertical-align: top;\n",
              "    }\n",
              "\n",
              "    .dataframe thead th {\n",
              "        text-align: right;\n",
              "    }\n",
              "</style>\n",
              "<table border=\"1\" class=\"dataframe\">\n",
              "  <thead>\n",
              "    <tr style=\"text-align: right;\">\n",
              "      <th></th>\n",
              "      <th>_id</th>\n",
              "      <th>category</th>\n",
              "      <th>classification</th>\n",
              "      <th>contact_details</th>\n",
              "      <th>id</th>\n",
              "      <th>identifiers</th>\n",
              "      <th>name</th>\n",
              "      <th>slug</th>\n",
              "      <th>founding_date</th>\n",
              "      <th>dissolution_date</th>\n",
              "    </tr>\n",
              "  </thead>\n",
              "  <tbody>\n",
              "    <tr>\n",
              "      <th>0</th>\n",
              "      <td>core_organisation:2471</td>\n",
              "      <td>other</td>\n",
              "      <td>Unknown</td>\n",
              "      <td>[]</td>\n",
              "      <td>core_organisation:2471</td>\n",
              "      <td>[]</td>\n",
              "      <td>Coffee Board of Kenya</td>\n",
              "      <td>coffee-board-kenya</td>\n",
              "      <td>NaN</td>\n",
              "      <td>NaN</td>\n",
              "    </tr>\n",
              "    <tr>\n",
              "      <th>1</th>\n",
              "      <td>core_organisation:2472</td>\n",
              "      <td>other</td>\n",
              "      <td>Unknown</td>\n",
              "      <td>[]</td>\n",
              "      <td>core_organisation:2472</td>\n",
              "      <td>[]</td>\n",
              "      <td>Aberdare Spa and Safari Lodge</td>\n",
              "      <td>aberdare-spa-and-safari-lodge</td>\n",
              "      <td>NaN</td>\n",
              "      <td>NaN</td>\n",
              "    </tr>\n",
              "    <tr>\n",
              "      <th>2</th>\n",
              "      <td>core_organisation:2475</td>\n",
              "      <td>other</td>\n",
              "      <td>Unknown</td>\n",
              "      <td>[]</td>\n",
              "      <td>core_organisation:2475</td>\n",
              "      <td>[]</td>\n",
              "      <td>Co-Operative Bank</td>\n",
              "      <td>co-operative-bank</td>\n",
              "      <td>NaN</td>\n",
              "      <td>NaN</td>\n",
              "    </tr>\n",
              "  </tbody>\n",
              "</table>\n",
              "</div>"
            ],
            "text/plain": [
              "                      _id category  ... founding_date dissolution_date\n",
              "0  core_organisation:2471    other  ...           NaN              NaN\n",
              "1  core_organisation:2472    other  ...           NaN              NaN\n",
              "2  core_organisation:2475    other  ...           NaN              NaN\n",
              "\n",
              "[3 rows x 10 columns]"
            ]
          },
          "metadata": {
            "tags": []
          },
          "execution_count": 14
        }
      ]
    },
    {
      "cell_type": "code",
      "metadata": {
        "id": "g2hIaljWRfH8",
        "colab_type": "code",
        "outputId": "e1d89924-fa8e-42a8-cc5b-d47ac9a6d1d3",
        "colab": {
          "base_uri": "https://localhost:8080/",
          "height": 141
        }
      },
      "source": [
        "org_columns = ['id','name', 'category', 'classification','contact_details',\n",
        "               'founding_date', 'dissolution_date']\n",
        "data_org = data_org[org_columns]\n",
        "data_org.head(3)"
      ],
      "execution_count": 0,
      "outputs": [
        {
          "output_type": "execute_result",
          "data": {
            "text/html": [
              "<div>\n",
              "<style scoped>\n",
              "    .dataframe tbody tr th:only-of-type {\n",
              "        vertical-align: middle;\n",
              "    }\n",
              "\n",
              "    .dataframe tbody tr th {\n",
              "        vertical-align: top;\n",
              "    }\n",
              "\n",
              "    .dataframe thead th {\n",
              "        text-align: right;\n",
              "    }\n",
              "</style>\n",
              "<table border=\"1\" class=\"dataframe\">\n",
              "  <thead>\n",
              "    <tr style=\"text-align: right;\">\n",
              "      <th></th>\n",
              "      <th>id</th>\n",
              "      <th>name</th>\n",
              "      <th>category</th>\n",
              "      <th>classification</th>\n",
              "      <th>contact_details</th>\n",
              "      <th>founding_date</th>\n",
              "      <th>dissolution_date</th>\n",
              "    </tr>\n",
              "  </thead>\n",
              "  <tbody>\n",
              "    <tr>\n",
              "      <th>0</th>\n",
              "      <td>core_organisation:2471</td>\n",
              "      <td>Coffee Board of Kenya</td>\n",
              "      <td>other</td>\n",
              "      <td>Unknown</td>\n",
              "      <td>[]</td>\n",
              "      <td>NaN</td>\n",
              "      <td>NaN</td>\n",
              "    </tr>\n",
              "    <tr>\n",
              "      <th>1</th>\n",
              "      <td>core_organisation:2472</td>\n",
              "      <td>Aberdare Spa and Safari Lodge</td>\n",
              "      <td>other</td>\n",
              "      <td>Unknown</td>\n",
              "      <td>[]</td>\n",
              "      <td>NaN</td>\n",
              "      <td>NaN</td>\n",
              "    </tr>\n",
              "    <tr>\n",
              "      <th>2</th>\n",
              "      <td>core_organisation:2475</td>\n",
              "      <td>Co-Operative Bank</td>\n",
              "      <td>other</td>\n",
              "      <td>Unknown</td>\n",
              "      <td>[]</td>\n",
              "      <td>NaN</td>\n",
              "      <td>NaN</td>\n",
              "    </tr>\n",
              "  </tbody>\n",
              "</table>\n",
              "</div>"
            ],
            "text/plain": [
              "                       id  ... dissolution_date\n",
              "0  core_organisation:2471  ...              NaN\n",
              "1  core_organisation:2472  ...              NaN\n",
              "2  core_organisation:2475  ...              NaN\n",
              "\n",
              "[3 rows x 7 columns]"
            ]
          },
          "metadata": {
            "tags": []
          },
          "execution_count": 15
        }
      ]
    },
    {
      "cell_type": "markdown",
      "metadata": {
        "id": "j-P-RdPMTULh",
        "colab_type": "text"
      },
      "source": [
        "Clean columns"
      ]
    },
    {
      "cell_type": "code",
      "metadata": {
        "id": "FmE6PB2xTE5A",
        "colab_type": "code",
        "outputId": "683189ad-4078-4f0a-9dbb-baa7414b35a1",
        "colab": {
          "base_uri": "https://localhost:8080/",
          "height": 141
        }
      },
      "source": [
        "\n",
        "# Access the ID's only\n",
        "data_org['id'] = data_org['id'].apply(lambda x: clean_id(x))\n",
        "# add email\n",
        "data_org['email'] = data_org['contact_details'].apply(lambda x: get_email(x)  )\n",
        "# add phone no.'s\n",
        "data_org['phone'] = data_org['contact_details'].apply(lambda x: get_phone(x)  )\n",
        "# add addreses\n",
        "data_org['address'] = data_org['contact_details'].apply(lambda x: get_address(x)  )\n",
        "\n",
        "\n",
        "data_org.head(3)"
      ],
      "execution_count": 0,
      "outputs": [
        {
          "output_type": "execute_result",
          "data": {
            "text/html": [
              "<div>\n",
              "<style scoped>\n",
              "    .dataframe tbody tr th:only-of-type {\n",
              "        vertical-align: middle;\n",
              "    }\n",
              "\n",
              "    .dataframe tbody tr th {\n",
              "        vertical-align: top;\n",
              "    }\n",
              "\n",
              "    .dataframe thead th {\n",
              "        text-align: right;\n",
              "    }\n",
              "</style>\n",
              "<table border=\"1\" class=\"dataframe\">\n",
              "  <thead>\n",
              "    <tr style=\"text-align: right;\">\n",
              "      <th></th>\n",
              "      <th>id</th>\n",
              "      <th>name</th>\n",
              "      <th>category</th>\n",
              "      <th>classification</th>\n",
              "      <th>contact_details</th>\n",
              "      <th>founding_date</th>\n",
              "      <th>dissolution_date</th>\n",
              "      <th>email</th>\n",
              "      <th>phone</th>\n",
              "      <th>address</th>\n",
              "    </tr>\n",
              "  </thead>\n",
              "  <tbody>\n",
              "    <tr>\n",
              "      <th>0</th>\n",
              "      <td>2471</td>\n",
              "      <td>Coffee Board of Kenya</td>\n",
              "      <td>other</td>\n",
              "      <td>Unknown</td>\n",
              "      <td>[]</td>\n",
              "      <td>NaN</td>\n",
              "      <td>NaN</td>\n",
              "      <td>None</td>\n",
              "      <td>None</td>\n",
              "      <td>None</td>\n",
              "    </tr>\n",
              "    <tr>\n",
              "      <th>1</th>\n",
              "      <td>2472</td>\n",
              "      <td>Aberdare Spa and Safari Lodge</td>\n",
              "      <td>other</td>\n",
              "      <td>Unknown</td>\n",
              "      <td>[]</td>\n",
              "      <td>NaN</td>\n",
              "      <td>NaN</td>\n",
              "      <td>None</td>\n",
              "      <td>None</td>\n",
              "      <td>None</td>\n",
              "    </tr>\n",
              "    <tr>\n",
              "      <th>2</th>\n",
              "      <td>2475</td>\n",
              "      <td>Co-Operative Bank</td>\n",
              "      <td>other</td>\n",
              "      <td>Unknown</td>\n",
              "      <td>[]</td>\n",
              "      <td>NaN</td>\n",
              "      <td>NaN</td>\n",
              "      <td>None</td>\n",
              "      <td>None</td>\n",
              "      <td>None</td>\n",
              "    </tr>\n",
              "  </tbody>\n",
              "</table>\n",
              "</div>"
            ],
            "text/plain": [
              "     id                           name category  ... email phone address\n",
              "0  2471          Coffee Board of Kenya    other  ...  None  None    None\n",
              "1  2472  Aberdare Spa and Safari Lodge    other  ...  None  None    None\n",
              "2  2475              Co-Operative Bank    other  ...  None  None    None\n",
              "\n",
              "[3 rows x 10 columns]"
            ]
          },
          "metadata": {
            "tags": []
          },
          "execution_count": 16
        }
      ]
    },
    {
      "cell_type": "code",
      "metadata": {
        "id": "4cMDE2CcWJiF",
        "colab_type": "code",
        "colab": {}
      },
      "source": [
        "# data_org.to_csv('KE_mzalendo_organizations.csv')"
      ],
      "execution_count": 0,
      "outputs": []
    },
    {
      "cell_type": "code",
      "metadata": {
        "id": "PQu-XOhfaa6_",
        "colab_type": "code",
        "colab": {}
      },
      "source": [
        ""
      ],
      "execution_count": 0,
      "outputs": []
    },
    {
      "cell_type": "markdown",
      "metadata": {
        "id": "XIY6AAmBkmlQ",
        "colab_type": "text"
      },
      "source": [
        "# Memberships"
      ]
    },
    {
      "cell_type": "code",
      "metadata": {
        "id": "r_AUqzKakqfR",
        "colab_type": "code",
        "outputId": "4f15cf59-0c60-4ecb-9ae1-1a283d8ae8f4",
        "colab": {
          "base_uri": "https://localhost:8080/",
          "height": 159
        }
      },
      "source": [
        "data_mb = pd.read_json(memberships)\n",
        "\n",
        "data_mb.head(3)"
      ],
      "execution_count": 8,
      "outputs": [
        {
          "output_type": "execute_result",
          "data": {
            "text/html": [
              "<div>\n",
              "<style scoped>\n",
              "    .dataframe tbody tr th:only-of-type {\n",
              "        vertical-align: middle;\n",
              "    }\n",
              "\n",
              "    .dataframe tbody tr th {\n",
              "        vertical-align: top;\n",
              "    }\n",
              "\n",
              "    .dataframe thead th {\n",
              "        text-align: right;\n",
              "    }\n",
              "</style>\n",
              "<table border=\"1\" class=\"dataframe\">\n",
              "  <thead>\n",
              "    <tr style=\"text-align: right;\">\n",
              "      <th></th>\n",
              "      <th>_id</th>\n",
              "      <th>area</th>\n",
              "      <th>end_date</th>\n",
              "      <th>id</th>\n",
              "      <th>identifiers</th>\n",
              "      <th>organization_id</th>\n",
              "      <th>person_id</th>\n",
              "      <th>role</th>\n",
              "      <th>start_date</th>\n",
              "      <th>legislative_period_id</th>\n",
              "    </tr>\n",
              "  </thead>\n",
              "  <tbody>\n",
              "    <tr>\n",
              "      <th>0</th>\n",
              "      <td>core_position:20499</td>\n",
              "      <td>None</td>\n",
              "      <td>2013-03-04</td>\n",
              "      <td>core_position:20499</td>\n",
              "      <td>[{'identifier': '2BBD157E-3569-E211-9497-00505...</td>\n",
              "      <td>core_organisation:513</td>\n",
              "      <td>core_person:7848</td>\n",
              "      <td>Aspirant Ward Representative</td>\n",
              "      <td>2013-02-08</td>\n",
              "      <td>NaN</td>\n",
              "    </tr>\n",
              "    <tr>\n",
              "      <th>1</th>\n",
              "      <td>core_position:20498</td>\n",
              "      <td>NaN</td>\n",
              "      <td>NaN</td>\n",
              "      <td>core_position:20498</td>\n",
              "      <td>[]</td>\n",
              "      <td>core_organisation:15</td>\n",
              "      <td>core_person:7848</td>\n",
              "      <td>Member</td>\n",
              "      <td>2013-02-08</td>\n",
              "      <td>NaN</td>\n",
              "    </tr>\n",
              "    <tr>\n",
              "      <th>2</th>\n",
              "      <td>core_position:29626</td>\n",
              "      <td>NaN</td>\n",
              "      <td>NaN</td>\n",
              "      <td>core_position:29626</td>\n",
              "      <td>[]</td>\n",
              "      <td>core_organisation:1783</td>\n",
              "      <td>core_person:7848</td>\n",
              "      <td>Coalition Member</td>\n",
              "      <td>2013-02-13</td>\n",
              "      <td>NaN</td>\n",
              "    </tr>\n",
              "  </tbody>\n",
              "</table>\n",
              "</div>"
            ],
            "text/plain": [
              "                   _id  area  ...  start_date legislative_period_id\n",
              "0  core_position:20499  None  ...  2013-02-08                   NaN\n",
              "1  core_position:20498   NaN  ...  2013-02-08                   NaN\n",
              "2  core_position:29626   NaN  ...  2013-02-13                   NaN\n",
              "\n",
              "[3 rows x 10 columns]"
            ]
          },
          "metadata": {
            "tags": []
          },
          "execution_count": 8
        }
      ]
    },
    {
      "cell_type": "code",
      "metadata": {
        "id": "KrxhlR0wk0pl",
        "colab_type": "code",
        "outputId": "d5037fc2-aa0f-4372-e4bb-1ecd872e8106",
        "colab": {
          "base_uri": "https://localhost:8080/",
          "height": 34
        }
      },
      "source": [
        "len(data_mb)"
      ],
      "execution_count": 10,
      "outputs": [
        {
          "output_type": "execute_result",
          "data": {
            "text/plain": [
              "44330"
            ]
          },
          "metadata": {
            "tags": []
          },
          "execution_count": 10
        }
      ]
    },
    {
      "cell_type": "code",
      "metadata": {
        "id": "gJpCH3s4DxJv",
        "colab_type": "code",
        "colab": {}
      },
      "source": [
        "# clean Pos ID's \n",
        "data_mb['id'] = data_mb['id'].apply(lambda x: clean_id(x))\n",
        "# org ID\n",
        "data_mb['organization_id'] = data_mb['organization_id'].apply(lambda x: clean_id(x))\n",
        "# person's ID\n",
        "data_mb['person_id'] = data_mb['person_id'].apply(lambda x: clean_id(x))"
      ],
      "execution_count": 0,
      "outputs": []
    },
    {
      "cell_type": "code",
      "metadata": {
        "id": "9k98cRWg3IRi",
        "colab_type": "code",
        "colab": {}
      },
      "source": [
        "mb_columns = ['id','organization_id','person_id','role','area', \n",
        "                   'end_date','start_date','identifiers','legislative_period_id']\n",
        "\n",
        "data_mb = data_mb[mb_columns]"
      ],
      "execution_count": 0,
      "outputs": []
    },
    {
      "cell_type": "code",
      "metadata": {
        "id": "op8izuLpDxSU",
        "colab_type": "code",
        "outputId": "899231f6-9baf-4418-a2f1-a98d958bd3ad",
        "colab": {
          "base_uri": "https://localhost:8080/",
          "height": 142
        }
      },
      "source": [
        "data_mb.head(3)"
      ],
      "execution_count": 13,
      "outputs": [
        {
          "output_type": "execute_result",
          "data": {
            "text/html": [
              "<div>\n",
              "<style scoped>\n",
              "    .dataframe tbody tr th:only-of-type {\n",
              "        vertical-align: middle;\n",
              "    }\n",
              "\n",
              "    .dataframe tbody tr th {\n",
              "        vertical-align: top;\n",
              "    }\n",
              "\n",
              "    .dataframe thead th {\n",
              "        text-align: right;\n",
              "    }\n",
              "</style>\n",
              "<table border=\"1\" class=\"dataframe\">\n",
              "  <thead>\n",
              "    <tr style=\"text-align: right;\">\n",
              "      <th></th>\n",
              "      <th>id</th>\n",
              "      <th>organization_id</th>\n",
              "      <th>person_id</th>\n",
              "      <th>role</th>\n",
              "      <th>area</th>\n",
              "      <th>end_date</th>\n",
              "      <th>start_date</th>\n",
              "      <th>identifiers</th>\n",
              "      <th>legislative_period_id</th>\n",
              "    </tr>\n",
              "  </thead>\n",
              "  <tbody>\n",
              "    <tr>\n",
              "      <th>0</th>\n",
              "      <td>20499</td>\n",
              "      <td>513</td>\n",
              "      <td>7848</td>\n",
              "      <td>Aspirant Ward Representative</td>\n",
              "      <td>None</td>\n",
              "      <td>2013-03-04</td>\n",
              "      <td>2013-02-08</td>\n",
              "      <td>[{'identifier': '2BBD157E-3569-E211-9497-00505...</td>\n",
              "      <td>NaN</td>\n",
              "    </tr>\n",
              "    <tr>\n",
              "      <th>1</th>\n",
              "      <td>20498</td>\n",
              "      <td>15</td>\n",
              "      <td>7848</td>\n",
              "      <td>Member</td>\n",
              "      <td>NaN</td>\n",
              "      <td>NaN</td>\n",
              "      <td>2013-02-08</td>\n",
              "      <td>[]</td>\n",
              "      <td>NaN</td>\n",
              "    </tr>\n",
              "    <tr>\n",
              "      <th>2</th>\n",
              "      <td>29626</td>\n",
              "      <td>1783</td>\n",
              "      <td>7848</td>\n",
              "      <td>Coalition Member</td>\n",
              "      <td>NaN</td>\n",
              "      <td>NaN</td>\n",
              "      <td>2013-02-13</td>\n",
              "      <td>[]</td>\n",
              "      <td>NaN</td>\n",
              "    </tr>\n",
              "  </tbody>\n",
              "</table>\n",
              "</div>"
            ],
            "text/plain": [
              "      id  ... legislative_period_id\n",
              "0  20499  ...                   NaN\n",
              "1  20498  ...                   NaN\n",
              "2  29626  ...                   NaN\n",
              "\n",
              "[3 rows x 9 columns]"
            ]
          },
          "metadata": {
            "tags": []
          },
          "execution_count": 13
        }
      ]
    },
    {
      "cell_type": "code",
      "metadata": {
        "id": "ga6PeE3S4D1K",
        "colab_type": "code",
        "colab": {}
      },
      "source": [
        ""
      ],
      "execution_count": 0,
      "outputs": []
    },
    {
      "cell_type": "markdown",
      "metadata": {
        "id": "JaVwzfotyJxR",
        "colab_type": "text"
      },
      "source": [
        "Define Memberships regions by 'Name' and 'Region-Type'"
      ]
    },
    {
      "cell_type": "code",
      "metadata": {
        "id": "oeySxexncrFI",
        "colab_type": "code",
        "colab": {}
      },
      "source": [
        "def get_region(x):\n",
        "  if pd.notnull(x):\n",
        "    region = x['name']\n",
        "    return region\n",
        "\n",
        "def get_area_type(x):\n",
        "  if pd.notnull(x):\n",
        "    area_type = x['area_type']\n",
        "    return area_type\n",
        "\n",
        "def get_term(x):\n",
        "  if pd.notnull(x):\n",
        "    term = x['session']['slug']\n",
        "    return term\n"
      ],
      "execution_count": 0,
      "outputs": []
    },
    {
      "cell_type": "code",
      "metadata": {
        "id": "4gslZ-B9nR8o",
        "colab_type": "code",
        "colab": {}
      },
      "source": [
        "# data_mb.to_csv('ke_mzalendo_memberships.csv')"
      ],
      "execution_count": 0,
      "outputs": []
    },
    {
      "cell_type": "code",
      "metadata": {
        "id": "8SfoF38ncqyD",
        "colab_type": "code",
        "outputId": "cb897540-ec76-445e-f4e5-b2f8d2338571",
        "colab": {
          "base_uri": "https://localhost:8080/",
          "height": 187
        }
      },
      "source": [
        "data_mb['area'][44320]"
      ],
      "execution_count": 14,
      "outputs": [
        {
          "output_type": "execute_result",
          "data": {
            "text/plain": [
              "{'area_type': 'DIS',\n",
              " 'id': 'mapit:5038',\n",
              " 'identifier': 'http://info.mzalendo.com/mapit/area/5038',\n",
              " 'name': 'Nyandarua',\n",
              " 'session': {'end_date': '2017-07-16',\n",
              "  'id': 3,\n",
              "  'mapit_generation': 3,\n",
              "  'name': 'Senate 2013-2017',\n",
              "  'slug': 's2013',\n",
              "  'start_date': '2013-03-05'}}"
            ]
          },
          "metadata": {
            "tags": []
          },
          "execution_count": 14
        }
      ]
    }
  ]
}