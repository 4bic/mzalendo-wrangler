{
  "nbformat": 4,
  "nbformat_minor": 0,
  "metadata": {
    "colab": {
      "name": "mzalendo_ke_legislators_wrangler.ipynb",
      "provenance": [],
      "collapsed_sections": [],
      "toc_visible": true,
      "include_colab_link": true
    },
    "kernelspec": {
      "name": "python3",
      "display_name": "Python 3"
    }
  },
  "cells": [
    {
      "cell_type": "markdown",
      "metadata": {
        "id": "view-in-github",
        "colab_type": "text"
      },
      "source": [
        "<a href=\"https://colab.research.google.com/github/4bic/mzalendo-wrangler/blob/master/mzalendo_ke_legislators_wrangler.ipynb\" target=\"_parent\"><img src=\"https://colab.research.google.com/assets/colab-badge.svg\" alt=\"Open In Colab\"/></a>"
      ]
    },
    {
      "cell_type": "markdown",
      "metadata": {
        "id": "NmDzqRecunMQ",
        "colab_type": "text"
      },
      "source": [
        "# Set up Essentials"
      ]
    },
    {
      "cell_type": "code",
      "metadata": {
        "id": "MX6bRjOdu35E",
        "colab_type": "code",
        "colab": {}
      },
      "source": [
        "from google.colab import drive , files\n",
        "import os, os.path\n",
        "import pandas as pd\n",
        "from pandas.io.json import json_normalize \n",
        "import json\n",
        "import requests"
      ],
      "execution_count": 0,
      "outputs": []
    },
    {
      "cell_type": "markdown",
      "metadata": {
        "id": "8CP1uNiiu7uq",
        "colab_type": "text"
      },
      "source": [
        "## **Mount Drive and Operate from within said folder**"
      ]
    },
    {
      "cell_type": "code",
      "metadata": {
        "id": "BF3sZ1xlvJL4",
        "colab_type": "code",
        "colab": {}
      },
      "source": [
        "from google.colab import drive\n",
        "drive.mount('/content/drive')"
      ],
      "execution_count": 0,
      "outputs": []
    },
    {
      "cell_type": "code",
      "metadata": {
        "id": "cl6MU0c6vMJ_",
        "colab_type": "code",
        "outputId": "1a844e68-cef3-477e-e7f4-12a92806b1e7",
        "colab": {
          "base_uri": "https://localhost:8080/",
          "height": 34
        }
      },
      "source": [
        "%cd /content/drive/'My Drive'/Colab_Notebooks/mzalendo"
      ],
      "execution_count": 0,
      "outputs": [
        {
          "output_type": "stream",
          "text": [
            "/content/drive/My Drive/Colab_Notebooks/mzalendo\n"
          ],
          "name": "stdout"
        }
      ]
    },
    {
      "cell_type": "code",
      "metadata": {
        "id": "HfKm9sw9qSgk",
        "colab_type": "code",
        "colab": {}
      },
      "source": [
        "persons = \"http://info.mzalendo.com/media_root/popolo_json/persons.json\"\n",
        "organization = \"http://info.mzalendo.com/media_root/popolo_json/organizations.json\"\n",
        "memberships = \"http://info.mzalendo.com/media_root/popolo_json/memberships.json\"\n",
        "pombola = \"http://info.mzalendo.com/media_root/popolo_json/memberships.json\"\n",
        "candidates = \"https://docs.google.com/spreadsheets/d/e/2PACX-1vTR3hgRnOrPi6Opkr3Z622_onNYEtzds51TxqS1-VBEcDqP8O0nLjr1XwRkQYCGLrusNL6nJLyxtQbe/pub?gid=671749755&single=true&output=csv\"\n",
        "elected = \"https://docs.google.com/spreadsheets/d/e/2PACX-1vTR3hgRnOrPi6Opkr3Z622_onNYEtzds51TxqS1-VBEcDqP8O0nLjr1XwRkQYCGLrusNL6nJLyxtQbe/pub?gid=655626479&single=true&output=csv\"\n"
      ],
      "execution_count": 0,
      "outputs": []
    },
    {
      "cell_type": "markdown",
      "metadata": {
        "id": "eDO7_aFQNoj6",
        "colab_type": "text"
      },
      "source": [
        "## Work from file with nested jsons'"
      ]
    },
    {
      "cell_type": "code",
      "metadata": {
        "id": "Y3yJ1MnKmQPY",
        "colab_type": "code",
        "colab": {}
      },
      "source": [
        "with open(pombola) as data_file:    \n",
        "    data = json.load(data_file) \n",
        "\n",
        "# data = json_normalize(\"pombola.json\")"
      ],
      "execution_count": 0,
      "outputs": []
    },
    {
      "cell_type": "code",
      "metadata": {
        "id": "IDarGGo-mQTL",
        "colab_type": "code",
        "colab": {}
      },
      "source": [
        "df = json_normalize(data)"
      ],
      "execution_count": 0,
      "outputs": []
    },
    {
      "cell_type": "code",
      "metadata": {
        "id": "XW40Vl7ZmS6d",
        "colab_type": "code",
        "outputId": "187b53ee-0147-4d97-87e3-2516e727f482",
        "colab": {
          "base_uri": "https://localhost:8080/",
          "height": 80
        }
      },
      "source": [
        "df.head()"
      ],
      "execution_count": 0,
      "outputs": [
        {
          "output_type": "execute_result",
          "data": {
            "text/html": [
              "<div>\n",
              "<style scoped>\n",
              "    .dataframe tbody tr th:only-of-type {\n",
              "        vertical-align: middle;\n",
              "    }\n",
              "\n",
              "    .dataframe tbody tr th {\n",
              "        vertical-align: top;\n",
              "    }\n",
              "\n",
              "    .dataframe thead th {\n",
              "        text-align: right;\n",
              "    }\n",
              "</style>\n",
              "<table border=\"1\" class=\"dataframe\">\n",
              "  <thead>\n",
              "    <tr style=\"text-align: right;\">\n",
              "      <th></th>\n",
              "      <th>areas</th>\n",
              "      <th>events</th>\n",
              "      <th>organizations</th>\n",
              "      <th>persons</th>\n",
              "      <th>posts</th>\n",
              "    </tr>\n",
              "  </thead>\n",
              "  <tbody>\n",
              "    <tr>\n",
              "      <th>0</th>\n",
              "      <td>[{'area_type': 'CON', 'id': 'mapit:4812', 'ide...</td>\n",
              "      <td>[{'classification': 'legislative period', 'end...</td>\n",
              "      <td>[{'category': 'other', 'classification': 'Unkn...</td>\n",
              "      <td>[{'contact_details': [], 'id': 'core_person:78...</td>\n",
              "      <td>[]</td>\n",
              "    </tr>\n",
              "  </tbody>\n",
              "</table>\n",
              "</div>"
            ],
            "text/plain": [
              "                                               areas  ... posts\n",
              "0  [{'area_type': 'CON', 'id': 'mapit:4812', 'ide...  ...    []\n",
              "\n",
              "[1 rows x 5 columns]"
            ]
          },
          "metadata": {
            "tags": []
          },
          "execution_count": 18
        }
      ]
    },
    {
      "cell_type": "code",
      "metadata": {
        "id": "td2Uw3hvrzRg",
        "colab_type": "code",
        "outputId": "9d16a2a8-8dd5-4028-f0cc-358026508212",
        "colab": {
          "base_uri": "https://localhost:8080/",
          "height": 34
        }
      },
      "source": [
        "df.columns"
      ],
      "execution_count": 0,
      "outputs": [
        {
          "output_type": "execute_result",
          "data": {
            "text/plain": [
              "Index(['areas', 'events', 'organizations', 'persons', 'posts'], dtype='object')"
            ]
          },
          "metadata": {
            "tags": []
          },
          "execution_count": 27
        }
      ]
    },
    {
      "cell_type": "code",
      "metadata": {
        "id": "MeNUicCCqw7y",
        "colab_type": "code",
        "outputId": "9d64e695-bec5-4206-dc08-9d87220fea95",
        "colab": {
          "base_uri": "https://localhost:8080/",
          "height": 34
        }
      },
      "source": [
        "len(df['persons'][0])"
      ],
      "execution_count": 0,
      "outputs": [
        {
          "output_type": "execute_result",
          "data": {
            "text/plain": [
              "13267"
            ]
          },
          "metadata": {
            "tags": []
          },
          "execution_count": 31
        }
      ]
    },
    {
      "cell_type": "code",
      "metadata": {
        "id": "c7fauqj-q-u0",
        "colab_type": "code",
        "colab": {}
      },
      "source": [
        "df_P = pd.DataFrame(df['persons'][0])"
      ],
      "execution_count": 0,
      "outputs": []
    },
    {
      "cell_type": "code",
      "metadata": {
        "id": "9-OkMiSPslea",
        "colab_type": "code",
        "outputId": "d3763233-cfeb-44da-b79b-fa64da01552c",
        "colab": {
          "base_uri": "https://localhost:8080/",
          "height": 298
        }
      },
      "source": [
        "df_P.head(3)"
      ],
      "execution_count": 0,
      "outputs": [
        {
          "output_type": "execute_result",
          "data": {
            "text/html": [
              "<div>\n",
              "<style scoped>\n",
              "    .dataframe tbody tr th:only-of-type {\n",
              "        vertical-align: middle;\n",
              "    }\n",
              "\n",
              "    .dataframe tbody tr th {\n",
              "        vertical-align: top;\n",
              "    }\n",
              "\n",
              "    .dataframe thead th {\n",
              "        text-align: right;\n",
              "    }\n",
              "</style>\n",
              "<table border=\"1\" class=\"dataframe\">\n",
              "  <thead>\n",
              "    <tr style=\"text-align: right;\">\n",
              "      <th></th>\n",
              "      <th>contact_details</th>\n",
              "      <th>id</th>\n",
              "      <th>identifiers</th>\n",
              "      <th>images</th>\n",
              "      <th>memberships</th>\n",
              "      <th>name</th>\n",
              "      <th>other_names</th>\n",
              "      <th>sort_name</th>\n",
              "      <th>birth_date</th>\n",
              "      <th>gender</th>\n",
              "      <th>death_date</th>\n",
              "      <th>summary</th>\n",
              "      <th>email</th>\n",
              "      <th>biography</th>\n",
              "      <th>national_identity</th>\n",
              "      <th>family_name</th>\n",
              "      <th>given_name</th>\n",
              "      <th>honorific_suffix</th>\n",
              "      <th>honorific_prefix</th>\n",
              "    </tr>\n",
              "  </thead>\n",
              "  <tbody>\n",
              "    <tr>\n",
              "      <th>0</th>\n",
              "      <td>[]</td>\n",
              "      <td>core_person:7848</td>\n",
              "      <td>[{'identifier': 'abbey-gedow-abdikadir', 'sche...</td>\n",
              "      <td>[{'url': 'http://info.mzalendo.com/media_root/...</td>\n",
              "      <td>[{'area': None, 'end_date': '2013-03-04', 'id'...</td>\n",
              "      <td>Abbey Gedow Abdikadir</td>\n",
              "      <td>[]</td>\n",
              "      <td>Abdikadir</td>\n",
              "      <td>NaN</td>\n",
              "      <td>NaN</td>\n",
              "      <td>NaN</td>\n",
              "      <td>NaN</td>\n",
              "      <td>NaN</td>\n",
              "      <td>NaN</td>\n",
              "      <td>NaN</td>\n",
              "      <td>NaN</td>\n",
              "      <td>NaN</td>\n",
              "      <td>NaN</td>\n",
              "      <td>NaN</td>\n",
              "    </tr>\n",
              "    <tr>\n",
              "      <th>1</th>\n",
              "      <td>[]</td>\n",
              "      <td>core_person:8251</td>\n",
              "      <td>[{'identifier': 'al-amin-ahmed', 'scheme': 'po...</td>\n",
              "      <td>[{'url': 'http://info.mzalendo.com/media_root/...</td>\n",
              "      <td>[{'id': 'core_position:21297', 'identifiers': ...</td>\n",
              "      <td>Al Amin Ahmed</td>\n",
              "      <td>[]</td>\n",
              "      <td>Ahmed</td>\n",
              "      <td>NaN</td>\n",
              "      <td>NaN</td>\n",
              "      <td>NaN</td>\n",
              "      <td>NaN</td>\n",
              "      <td>NaN</td>\n",
              "      <td>NaN</td>\n",
              "      <td>NaN</td>\n",
              "      <td>NaN</td>\n",
              "      <td>NaN</td>\n",
              "      <td>NaN</td>\n",
              "      <td>NaN</td>\n",
              "    </tr>\n",
              "    <tr>\n",
              "      <th>2</th>\n",
              "      <td>[]</td>\n",
              "      <td>core_person:4435</td>\n",
              "      <td>[{'identifier': 'abdi-ahmed-ali', 'scheme': 'p...</td>\n",
              "      <td>[{'url': 'http://info.mzalendo.com/media_root/...</td>\n",
              "      <td>[{'id': 'core_position:13754', 'identifiers': ...</td>\n",
              "      <td>Abdi Ahmed Ali</td>\n",
              "      <td>[]</td>\n",
              "      <td>Ali</td>\n",
              "      <td>NaN</td>\n",
              "      <td>NaN</td>\n",
              "      <td>NaN</td>\n",
              "      <td>NaN</td>\n",
              "      <td>NaN</td>\n",
              "      <td>NaN</td>\n",
              "      <td>NaN</td>\n",
              "      <td>NaN</td>\n",
              "      <td>NaN</td>\n",
              "      <td>NaN</td>\n",
              "      <td>NaN</td>\n",
              "    </tr>\n",
              "  </tbody>\n",
              "</table>\n",
              "</div>"
            ],
            "text/plain": [
              "  contact_details                id  ... honorific_suffix honorific_prefix\n",
              "0              []  core_person:7848  ...              NaN              NaN\n",
              "1              []  core_person:8251  ...              NaN              NaN\n",
              "2              []  core_person:4435  ...              NaN              NaN\n",
              "\n",
              "[3 rows x 19 columns]"
            ]
          },
          "metadata": {
            "tags": []
          },
          "execution_count": 34
        }
      ]
    },
    {
      "cell_type": "code",
      "metadata": {
        "id": "QhZw5uwRtWoX",
        "colab_type": "code",
        "colab": {}
      },
      "source": [
        ""
      ],
      "execution_count": 0,
      "outputs": []
    },
    {
      "cell_type": "markdown",
      "metadata": {
        "id": "Qg7BATQXN3nI",
        "colab_type": "text"
      },
      "source": [
        "## Collect All Candidates data"
      ]
    },
    {
      "cell_type": "code",
      "metadata": {
        "id": "5q-Ese_kN_tU",
        "colab_type": "code",
        "colab": {}
      },
      "source": [
        ""
      ],
      "execution_count": 0,
      "outputs": []
    }
  ]
}