{
  "nbformat": 4,
  "nbformat_minor": 0,
  "metadata": {
    "colab": {
      "name": "news-tools_ke-media_scraper.ipynb",
      "provenance": [],
      "collapsed_sections": []
    },
    "kernelspec": {
      "name": "python3",
      "display_name": "Python 3"
    }
  },
  "cells": [
    {
      "cell_type": "code",
      "metadata": {
        "id": "0A-HjfL4-4zQ",
        "colab_type": "code",
        "colab": {}
      },
      "source": [
        ""
      ],
      "execution_count": 0,
      "outputs": []
    },
    {
      "cell_type": "code",
      "metadata": {
        "id": "NwI02iqW-uqt",
        "colab_type": "code",
        "colab": {}
      },
      "source": [
        "#@title GitHub credentials { run: \"auto\", display-mode: \"form\" }\n",
        "\n",
        "g = Github(\"uName\", \"uPwd\")\n",
        "headers = {\"Authorization\": \"token\"}"
      ],
      "execution_count": 0,
      "outputs": []
    },
    {
      "cell_type": "code",
      "metadata": {
        "id": "X29Q03R_Yghk",
        "colab_type": "code",
        "colab": {}
      },
      "source": [
        "# !pip install pygithub"
      ],
      "execution_count": 0,
      "outputs": []
    },
    {
      "cell_type": "code",
      "metadata": {
        "id": "fofg-UAv-fqH",
        "colab_type": "code",
        "colab": {}
      },
      "source": [
        "from google.colab import drive , files\n",
        "import os, os.path\n",
        "from github import Github\n",
        "import requests\n",
        "from urllib.request import urlopen"
      ],
      "execution_count": 0,
      "outputs": []
    },
    {
      "cell_type": "code",
      "metadata": {
        "id": "MhSJPrs9_i8F",
        "colab_type": "code",
        "outputId": "805c6b2c-64af-4982-b88e-f1626f9f3e4f",
        "colab": {
          "base_uri": "https://localhost:8080/",
          "height": 34
        }
      },
      "source": [
        "from google.colab import drive\n",
        "drive.mount('/content/drive')"
      ],
      "execution_count": 0,
      "outputs": [
        {
          "output_type": "stream",
          "text": [
            "Drive already mounted at /content/drive; to attempt to forcibly remount, call drive.mount(\"/content/drive\", force_remount=True).\n"
          ],
          "name": "stdout"
        }
      ]
    },
    {
      "cell_type": "code",
      "metadata": {
        "id": "ZzOBp_pO8Ebw",
        "colab_type": "code",
        "outputId": "59864119-b534-49ed-d41b-457c06bc7afc",
        "colab": {
          "base_uri": "https://localhost:8080/",
          "height": 34
        }
      },
      "source": [
        "%cd /content/drive/'My Drive'/Colab_Notebooks/news_tools"
      ],
      "execution_count": 0,
      "outputs": [
        {
          "output_type": "stream",
          "text": [
            "/content/drive/My Drive/Colab_Notebooks/news_tools\n"
          ],
          "name": "stdout"
        }
      ]
    },
    {
      "cell_type": "code",
      "metadata": {
        "id": "DoYL8TZE-_HH",
        "colab_type": "code",
        "colab": {}
      },
      "source": [
        "# links = []\n",
        "# collection = []\n",
        "\n",
        "def get_links(media):\n",
        "    for proj in media:\n",
        "        link = base_url+proj\n",
        "        links.append(link)\n",
        "    return links\n",
        "        \n",
        "def collect_repos(links):\n",
        "    for link in links:\n",
        "        response = requests.get(link,headers)\n",
        "        json = response.json()\n",
        "        for repo in json:\n",
        "            repo_name = repo['full_name']\n",
        "            collection.append(repo_name)\n",
        "    return collection\n",
        "\n",
        "def get_path(collection):\n",
        "    for repo in collection:\n",
        "        repo = g.get_repo(repo)\n",
        "        # print(repo)\n",
        "        try:\n",
        "            contents = repo.get_contents(\"\")\n",
        "        except:\n",
        "            pass\n",
        "        for content_file in contents:\n",
        "            file_name = content_file.path\n",
        "            \n",
        "    return file_name\n",
        "\n",
        "def get_articles_path():    \n",
        "    repo = g.get_repo(proj)\n",
        "    contents = repo.get_contents(\"\") \n",
        "    while contents:\n",
        "        file_content = contents.pop(0)\n",
        "        if file_content.type == \"dir\":\n",
        "            contents.extend(repo.get_contents(file_content.path))\n",
        "        else:\n",
        "            article_path = file_content.path\n",
        "            articles.append(article_path)\n",
        "            \n",
        "    return articles\n",
        "\n",
        "\n",
        "def collect_and_save(articles):\n",
        "    article_url = []\n",
        "    for article in articles:\n",
        "        url = raw_url+ proj + tree + str(article)\n",
        "        print(article_url)\n",
        "    #     save to file\n",
        "        year = url.split('/')[4]\n",
        "        month = url.split('/')[6]\n",
        "\n",
        "        print(year +\":>><<:\"+month)\n",
        "        \n",
        "        Dir = str(year)+\"/\"+str(month)+\"/\"\n",
        "\n",
        "        file_path = './media/'+ Dir  # Change path to suit local dir\n",
        "        file_name = data[:50].title()\n",
        "\n",
        "        if not os.path.exists(file_path): \n",
        "          os.mkdir(file_path)\n",
        "\n",
        "        with open(file_path+file_name+'.txt','w+') as f:\n",
        "\n",
        "          f.write(data)\n",
        "          f.close()"
      ],
      "execution_count": 0,
      "outputs": []
    },
    {
      "cell_type": "code",
      "metadata": {
        "id": "DfCU3qEAognv",
        "colab_type": "code",
        "colab": {}
      },
      "source": [
        "links = []\n",
        "articles = []\n",
        "\n",
        "Daily_nation = ['newstools/2010-daily-nation','newstools/2012-daily-nation','newstools/2013-daily-nation', 'newstools/2016-daily-nation',\n",
        "                'newstools/2017-daily-nation','newstools/2018-daily-nation','newstools/2019-daily-nation']\n",
        "\n",
        "BD = [\"2017-business-daily-kenya\",\"2018-business-daily-kenya\",\"2019-business-daily-kenya\"]\n",
        "Standard_digital=[\"2015-standard-digital\",\"2016-standard-digital\",\"2017-standard-digital\",\n",
        "                  \"2018-standard-digital\",\"2019-standard-digital\"]\n",
        "Star=[\"2013-the-star\",\"2014-the-star\",\"2015-the-star\",\"2016-the-star\",\n",
        "        \"2017-the-star\",\"2018-the-star\",\"2019-the-star\"]\n",
        "EA=[\"1970-the-east-african\",\"2015-the-east-african\",\"2016-the-east-african\",\n",
        "      \"2017-the-east-african\",\"2018-the-east-african\",\"2019-the-east-african\"]\n",
        "\n",
        "kenya_media = [Daily_nation, BD,Standard_digital, Star, EA]"
      ],
      "execution_count": 0,
      "outputs": []
    },
    {
      "cell_type": "code",
      "metadata": {
        "id": "KOE4kG-GC0nZ",
        "colab_type": "code",
        "colab": {}
      },
      "source": [
        "base_url = \"https://github.com/\"\n",
        "raw_url = \"https://raw.githubusercontent.com/\"\n",
        "tree = \"/master/\""
      ],
      "execution_count": 0,
      "outputs": []
    },
    {
      "cell_type": "code",
      "metadata": {
        "id": "3yIN_T1_C37x",
        "colab_type": "code",
        "colab": {}
      },
      "source": [
        "# get_links(media)\n",
        "\n",
        "# collect_repos(links)\n",
        "\n",
        "i = 0\n",
        "for media in kenya_media:\n",
        "  get_links(media)\n",
        "  for proj in media:\n",
        "    proj = \"newstools/\"+proj\n",
        "    repo = g.get_repo(proj)\n",
        "    contents = repo.get_contents(\"\") \n",
        "    while contents:\n",
        "        file_content = contents.pop(0)\n",
        "        if file_content.type == \"dir\":\n",
        "            contents.extend(repo.get_contents(file_content.path))\n",
        "        else:\n",
        "            article_path = file_content.path\n",
        "\n",
        "            # print(article_path)\n",
        "            # collect_and_save(articles)\n",
        "            \n",
        "            article_url = raw_url+ proj + tree + str(file_content.path)\n",
        "            print(article_url)\n",
        "\n",
        "            data = urlopen(article_url).read() #.decode(\"utf-8\")\n",
        "\n",
        "          #     save to file\n",
        "            year = article_url.split('/')[4]\n",
        "            month = article_url.split('/')[6]\n",
        "\n",
        "            Dir = str(year)+\"/\"+str(month)\n",
        "\n",
        "            file_path = './media/'+ Dir # Change path to suit local dir\n",
        "            # file_name = data[:100].title()+'.txt'\n",
        "            file_name = str(article_path.split('/')[1])+'.txt'\n",
        "\n",
        "            # print(file_name)\n",
        "          \n",
        "            if not os.path.exists(file_path):\n",
        "                os.makedirs(file_path)\n",
        "\n",
        "            # if not os.path.isfile(file_path+file_name):\n",
        "            with open(file_path+\"/\"+file_name,'wb') as f:\n",
        "              f.write(data)\n",
        "              f.close()\n",
        "              i += 1\n",
        "  print ( str(i) +\" : no of files saved\")"
      ],
      "execution_count": 0,
      "outputs": []
    },
    {
      "cell_type": "code",
      "metadata": {
        "id": "299KH7jeuVYi",
        "colab_type": "code",
        "colab": {}
      },
      "source": [
        ""
      ],
      "execution_count": 0,
      "outputs": []
    }
  ]
}