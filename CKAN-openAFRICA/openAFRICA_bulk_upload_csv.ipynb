{
  "nbformat": 4,
  "nbformat_minor": 0,
  "metadata": {
    "colab": {
      "name": "openAFRICA_bulk_upload_csv.ipynb",
      "provenance": [],
      "toc_visible": true
    },
    "gist_id": "4b6481197417786b9ed8436dc4258a5a",
    "kernelspec": {
      "name": "python3",
      "display_name": "Python 3"
    },
    "language_info": {
      "codemirror_mode": {
        "name": "ipython",
        "version": 3
      },
      "file_extension": ".py",
      "mimetype": "text/x-python",
      "name": "python",
      "nbconvert_exporter": "python",
      "pygments_lexer": "ipython3",
      "version": "3.6.8"
    },
    "accelerator": "GPU"
  },
  "cells": [
    {
      "cell_type": "markdown",
      "metadata": {
        "id": "db7b8aI0woFI",
        "colab_type": "text"
      },
      "source": [
        "# Set up and mount drives"
      ]
    },
    {
      "cell_type": "code",
      "metadata": {
        "id": "cMNIwrpjw9tx",
        "colab_type": "code",
        "colab": {}
      },
      "source": [
        "from google.colab import drive\n",
        "drive.mount('/content/drive')"
      ],
      "execution_count": 0,
      "outputs": []
    },
    {
      "cell_type": "code",
      "metadata": {
        "id": "69570G73xhST",
        "colab_type": "code",
        "colab": {}
      },
      "source": [
        "%cd /content/drive/'My Drive'/Colab_Notebooks/knbs_2019/"
      ],
      "execution_count": 0,
      "outputs": []
    },
    {
      "cell_type": "code",
      "metadata": {
        "id": "lYSuFjsByPYm",
        "colab_type": "code",
        "colab": {
          "base_uri": "https://localhost:8080/",
          "height": 34
        },
        "outputId": "80f07662-b72f-49ce-c3f2-a0959db1b12f"
      },
      "source": [
        "ls\n"
      ],
      "execution_count": 54,
      "outputs": [
        {
          "output_type": "stream",
          "text": [
            "\u001b[0m\u001b[01;34mkenya_census_2019\u001b[0m/  Kenya_subCounty.csv\n"
          ],
          "name": "stdout"
        }
      ]
    },
    {
      "cell_type": "code",
      "metadata": {
        "id": "9vvEHuhtycyS",
        "colab_type": "code",
        "colab": {
          "base_uri": "https://localhost:8080/",
          "height": 136
        },
        "outputId": "e1eb309a-1636-4545-d212-874ff3e7e5c5"
      },
      "source": [
        "ls ./kenya_census_2019"
      ],
      "execution_count": 56,
      "outputs": [
        {
          "output_type": "stream",
          "text": [
            "'Kenya Average Household Size by sub-county.csv'\n",
            "'Kenya Population by sex and county.csv'\n",
            "'Kenya Population by Sub-County.csv'\n",
            "'Kenya Population, Land area & Population density_by_County.csv'\n",
            "'Kenya Population,Land area & Population density_by_subCounty.csv'\n",
            "'Population by Land area.csv'\n",
            "'Population & Houseshold data.csv'\n"
          ],
          "name": "stdout"
        }
      ]
    },
    {
      "cell_type": "markdown",
      "metadata": {
        "id": "v_0CM54XwhSo",
        "colab_type": "text"
      },
      "source": [
        "## Import neccessities "
      ]
    },
    {
      "cell_type": "code",
      "metadata": {
        "id": "ZHlt3fsmysEk",
        "colab_type": "code",
        "colab": {}
      },
      "source": [
        "# !pip install ckanapi"
      ],
      "execution_count": 0,
      "outputs": []
    },
    {
      "cell_type": "code",
      "metadata": {
        "colab_type": "code",
        "id": "2waivtz2F1Vy",
        "scrolled": true,
        "colab": {}
      },
      "source": [
        "import sys\n",
        "import os\n",
        "\n",
        "import ckanapi\n",
        "import requests\n",
        "# import api_key\n",
        "\n",
        "import pandas as pd"
      ],
      "execution_count": 0,
      "outputs": []
    },
    {
      "cell_type": "markdown",
      "metadata": {
        "id": "i9m_d_jpwhSv",
        "colab_type": "text"
      },
      "source": [
        "## Credentials and Working folder"
      ]
    },
    {
      "cell_type": "code",
      "metadata": {
        "id": "RcEQsQ-9whSw",
        "colab_type": "code",
        "colab": {}
      },
      "source": [
        "data_portal = 'https://africaopendata.org'\n",
        "\n",
        "# upload api\n",
        "api_url = data_portal + '/api/action/resource_create'\n",
        "\n",
        "# APIKEY = api_key.token\n",
        "APIKEY = 'xxxkjgggjj5663993666363xxx'\n",
        "\n",
        "ckan = ckanapi.RemoteCKAN(data_portal, apikey=APIKEY)\n",
        "\n",
        "headers = {'Authorization': APIKEY}\n",
        "\n",
        "dataset_url = '2019-kenya-population-and-housing-census'\n",
        "\n",
        "dataset_title = '2019 Kenya Population and Housing Census'\n",
        "\n",
        "datasets_folder = './kenya_census_2019'"
      ],
      "execution_count": 0,
      "outputs": []
    },
    {
      "cell_type": "markdown",
      "metadata": {
        "id": "I5MvGx5bwhSz",
        "colab_type": "text"
      },
      "source": [
        "## Create Package  / host Repo for the datasets"
      ]
    },
    {
      "cell_type": "code",
      "metadata": {
        "id": "-DN5hVw1whSz",
        "colab_type": "code",
        "colab": {
          "base_uri": "https://localhost:8080/",
          "height": 51
        },
        "outputId": "c592942b-3b80-4264-e6d7-3d8c4c4929ac"
      },
      "source": [
        "# Create the \"Data viewer examples\" dataset.\n",
        "package_name = dataset_url\n",
        "package_title = dataset_title\n",
        "try:\n",
        "    print ('Creating \"{package_title}\" package'.format(**locals()))\n",
        "    package = ckan.action.package_create(name=package_name,\n",
        "                                         title=package_title,\n",
        "                                        owner_org = 'knbs')\n",
        "except (ckanapi.ValidationError) as e:\n",
        "    if (e.error_dict['__type'] == 'Validation Error' and\n",
        "       e.error_dict['name'] == ['That URL is already in use.']):\n",
        "        print ('\"{package_title}\" package already exists'.format(**locals()))\n",
        "        package = ckan.action.package_show(id=package_name)\n",
        "    else:\n",
        "        raise"
      ],
      "execution_count": 57,
      "outputs": [
        {
          "output_type": "stream",
          "text": [
            "Creating \"2019 Kenya Population and Housing Census\" package\n",
            "\"2019 Kenya Population and Housing Census\" package already exists\n"
          ],
          "name": "stdout"
        }
      ]
    },
    {
      "cell_type": "markdown",
      "metadata": {
        "id": "PyDIXW3pwhS3",
        "colab_type": "text"
      },
      "source": [
        "## Upload Datasets  / host Repo for the datasets"
      ]
    },
    {
      "cell_type": "code",
      "metadata": {
        "id": "7nYAtKVGwhS4",
        "colab_type": "code",
        "colab": {
          "base_uri": "https://localhost:8080/",
          "height": 34
        },
        "outputId": "10aacdc2-dfa5-4922-b262-979459661c04"
      },
      "source": [
        "ls datasets_folder"
      ],
      "execution_count": 52,
      "outputs": [
        {
          "output_type": "stream",
          "text": [
            "ls: cannot access 'datasets_folder': No such file or directory\n"
          ],
          "name": "stdout"
        }
      ]
    },
    {
      "cell_type": "code",
      "metadata": {
        "scrolled": false,
        "id": "uVceHbJvwhS6",
        "colab_type": "code",
        "colab": {
          "base_uri": "https://localhost:8080/",
          "height": 136
        },
        "outputId": "e321932a-8706-4e25-e852-cc4d3f9bc6f4"
      },
      "source": [
        "for item in os.listdir(datasets_folder):\n",
        "    path = os.path.join(datasets_folder,item)\n",
        "    extension = os.path.splitext(item)[1][1:].lower()\n",
        "    filename = os.path.splitext(item)[0][0:].lower()\n",
        "    resource_name = item,'{extension}'.format(extension=extension)\n",
        "    data_file= pd.read_csv(path)\n",
        "    data_desc = data_file[:3].dropna(axis=1)\n",
        "    desc = ', '.join(data_desc[\"Unnamed: 0\"])\n",
        "  \n",
        "    print ('Creating \"{filename}\"'.format(**locals()))\n",
        "    r = requests.post(api_url,\n",
        "                      data={'package_id': package['id'],\n",
        "                            'name': filename,\n",
        "                            'format': extension,\n",
        "                            'description': desc\n",
        "#                             'url': item,  # Needed to pass validation\n",
        "                            },\n",
        "                      headers={'Authorization': APIKEY},\n",
        "#                       files=[('upload', file('\"{path}\"'.format(path=path)))])\n",
        "                      files=[('upload', open(path))])\n",
        "\n",
        "    if r.status_code != 200:\n",
        "        print ('Error while creating resource: {0}'.format(r.content))\n",
        "        break\n",
        "    "
      ],
      "execution_count": 58,
      "outputs": [
        {
          "output_type": "stream",
          "text": [
            "Creating \"kenya population by sub-county\"\n",
            "Creating \"kenya population by sex and county\"\n",
            "Creating \"kenya average household size by sub-county\"\n",
            "Creating \"kenya population,land area & population density_by_subcounty\"\n",
            "Creating \"population & houseshold data\"\n",
            "Creating \"population by land area\"\n",
            "Creating \"kenya population, land area & population density_by_county\"\n"
          ],
          "name": "stdout"
        }
      ]
    },
    {
      "cell_type": "code",
      "metadata": {
        "id": "WcflsQcAwhS8",
        "colab_type": "code",
        "colab": {}
      },
      "source": [
        ""
      ],
      "execution_count": 0,
      "outputs": []
    }
  ]
}